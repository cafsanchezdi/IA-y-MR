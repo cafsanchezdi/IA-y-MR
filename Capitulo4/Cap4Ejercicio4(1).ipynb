{
  "nbformat": 4,
  "nbformat_minor": 0,
  "metadata": {
    "colab": {
      "provenance": []
    },
    "kernelspec": {
      "name": "python3",
      "display_name": "Python 3"
    },
    "language_info": {
      "name": "python"
    }
  },
  "cells": [
    {
      "cell_type": "markdown",
      "source": [
        "Suponga que desea utilizar Programación Genética para encontrar el diseño de un circuito\n",
        "lógico, tome como, ejemplo el codificador de 7 segmentos. Describa el conjunto de\n",
        "terminales, el conjunto de funciones y la función de aptitud. Use una librería de Python"
      ],
      "metadata": {
        "id": "KiSriBQZtosb"
      }
    },
    {
      "cell_type": "markdown",
      "source": [
        "Conjunto de Terminales:\n",
        "\n",
        "    Representa las entradas y salidas del sistema. En este caso, podríamos tener terminales que representen la posición actual del robot, la posición de cada ingeniero, y posiblemente el número de galletas entregadas."
      ],
      "metadata": {
        "id": "wdbKurLQtqmJ"
      }
    },
    {
      "cell_type": "code",
      "source": [
        "# Conjunto de terminales\n",
        "terminales = ['Posicion_Robot_X', 'Posicion_Robot_Y', 'Posicion_Ingeniero_X', 'Posicion_Ingeniero_Y', 'Galletas_Entregadas']\n"
      ],
      "metadata": {
        "id": "EIl_H6HQvzTJ"
      },
      "execution_count": null,
      "outputs": []
    },
    {
      "cell_type": "markdown",
      "source": [
        "Conjunto de Funciones:\n",
        "\n",
        "Representa las acciones que puede realizar el robot. En este caso, podríamos tener funciones que representen moverse hacia un ingeniero, entregar una galleta, y posiblemente otras acciones como retroceder, girar, etc."
      ],
      "metadata": {
        "id": "NPafErPLt0b4"
      }
    },
    {
      "cell_type": "code",
      "source": [
        "# Conjunto de funciones\n",
        "funciones = ['Mover_Hacia_Ingeniero', 'Entregar_Galleta', 'Otras_Acciones']\n"
      ],
      "metadata": {
        "id": "XtAF6CQxv4CO"
      },
      "execution_count": null,
      "outputs": []
    },
    {
      "cell_type": "markdown",
      "source": [
        "Función de Aptitud:\n",
        "\n",
        "La función de aptitud evalúa qué tan bien se desempeña un individuo (secuencia de acciones del robot) en el problema dado. En este caso, podría evaluar la cantidad de galletas entregadas y, posiblemente, la eficiencia del recorrido."
      ],
      "metadata": {
        "id": "8GEX8E91t2cU"
      }
    },
    {
      "cell_type": "code",
      "source": [
        "import random\n",
        "from deap import base, creator, tools, gp, algorithms\n",
        "\n",
        "# Definir la posición inicial del robot\n",
        "posicion_inicial_robot = (0, 0)\n",
        "\n",
        "# Conjunto de terminales\n",
        "terminales = ['Posicion_Robot_X', 'Posicion_Robot_Y', 'Posicion_Ingeniero_X', 'Posicion_Ingeniero_Y', 'Galletas_Entregadas']\n",
        "\n",
        "# Conjunto de funciones\n",
        "funciones = ['Mover_Hacia_Ingeniero', 'Entregar_Galleta']\n",
        "\n",
        "# Crear tipos para el algoritmo genético\n",
        "creator.create(\"FitnessMax\", base.Fitness, weights=(1.0,))\n",
        "creator.create(\"Individual\", gp.PrimitiveTree, fitness=creator.FitnessMax)\n",
        "\n",
        "# Crear la caja de herramientas DEAP\n",
        "toolbox = base.Toolbox()\n",
        "\n",
        "# Registrar tipos y operadores\n",
        "pset = gp.PrimitiveSet(\"MAIN\", arity=1)\n",
        "pset.addPrimitive(lambda x: x, arity=1, name=\"identity\")\n",
        "pset.addTerminal(0, name=\"zero\")\n",
        "pset.addTerminal(1, name=\"one\")\n",
        "\n",
        "toolbox.register(\"expr\", gp.genHalfAndHalf, pset=pset, min_=1, max_=2)\n",
        "toolbox.register(\"individual\", tools.initIterate, creator.Individual, toolbox.expr)\n",
        "toolbox.register(\"population\", tools.initRepeat, list, toolbox.individual)\n",
        "toolbox.register(\"select\", tools.selTournament, tournsize=3)\n",
        "toolbox.register(\"mate\", gp.cxOnePoint)\n",
        "# Registrar mutUniform con el argumento adicional pset\n",
        "toolbox.register(\"mutate\", gp.mutUniform, expr=toolbox.expr, pset=pset)\n",
        "\n",
        "# Registrar la función de aptitud en la caja de herramientas\n",
        "def evaluar_aptitud(individuo):\n",
        "    # Inicializar la posición inicial del robot y otros parámetros relevantes\n",
        "    pos_robot_x, pos_robot_y = posicion_inicial_robot\n",
        "    galletas_entregadas = 0\n",
        "\n",
        "    # Crear un diccionario con las terminales y sus valores iniciales\n",
        "    terminales_valores = {'Posicion_Robot_X': pos_robot_x, 'Posicion_Robot_Y': pos_robot_y,\n",
        "                          'Posicion_Ingeniero_X': 0, 'Posicion_Ingeniero_Y': 0,\n",
        "                          'Galletas_Entregadas': 0}\n",
        "\n",
        "    # Compilar el individuo en una función ejecutable\n",
        "    programa = gp.compile(expr=individuo, pset=pset)\n",
        "\n",
        "    # Iterar sobre la secuencia de acciones del individuo\n",
        "    while True:\n",
        "        # Evaluar y aplicar la acción\n",
        "        try:\n",
        "            accion = programa(**terminales_valores)\n",
        "        except Exception as e:\n",
        "            break\n",
        "\n",
        "        if accion == 'Mover_Hacia_Ingeniero':\n",
        "            # Lógica para mover el robot hacia un ingeniero\n",
        "            # Actualizar la posición del robot\n",
        "            pos_robot_x, pos_robot_y = nueva_posicion_despues_de_moverse(pos_robot_x, pos_robot_y)\n",
        "\n",
        "        elif accion == 'Entregar_Galleta':\n",
        "            # Lógica para entregar una galleta a un ingeniero\n",
        "            # Incrementar el contador de galletas entregadas\n",
        "            galletas_entregadas += 1\n",
        "\n",
        "        # Puedes agregar lógica para otras acciones según sea necesario\n",
        "        elif accion is None:\n",
        "            break  # Terminar si la acción es None, lo cual podría ser el final del programa\n",
        "\n",
        "    # Calcular la aptitud - en este caso, se puede basar en la cantidad de galletas entregadas\n",
        "    aptitud = galletas_entregadas\n",
        "\n",
        "    return aptitud,\n",
        "\n",
        "toolbox.register(\"evaluate\", evaluar_aptitud)\n",
        "\n",
        "# Configuración de la evolución\n",
        "poblacion = toolbox.population(n=100)\n",
        "hof = tools.HallOfFame(1)\n",
        "estadisticas = tools.Statistics(lambda ind: ind.fitness.values)\n",
        "estadisticas.register(\"max\", max)\n",
        "\n",
        "# Ejecutar el algoritmo genético\n",
        "algoritmo_genetico = algorithms.eaSimple(poblacion, toolbox, cxpb=0.7, mutpb=0.3, ngen=50, stats=estadisticas, halloffame=hof, verbose=True)\n",
        "\n",
        "# Obtener el mejor individuo\n",
        "mejor_individuo = hof[0]\n",
        "print(\"Mejor Individuo:\", mejor_individuo)\n",
        "print(\"Aptitud del Mejor Individuo:\", mejor_individuo.fitness.values[0])\n"
      ],
      "metadata": {
        "colab": {
          "base_uri": "https://localhost:8080/"
        },
        "id": "RiSM5oBLyCbd",
        "outputId": "3ed608f3-b920-4bfa-c6c3-3da0d1a02352"
      },
      "execution_count": 36,
      "outputs": [
        {
          "output_type": "stream",
          "name": "stdout",
          "text": [
            "gen\tnevals\tmax   \n",
            "0  \t100   \t(0.0,)\n",
            "1  \t73    \t(0.0,)\n",
            "2  \t81    \t(0.0,)\n",
            "3  \t71    \t(0.0,)\n",
            "4  \t78    \t(0.0,)\n",
            "5  \t74    \t(0.0,)\n",
            "6  \t84    \t(0.0,)\n",
            "7  \t95    \t(0.0,)\n",
            "8  \t76    \t(0.0,)\n",
            "9  \t75    \t(0.0,)\n",
            "10 \t86    \t(0.0,)\n",
            "11 \t76    \t(0.0,)\n",
            "12 \t81    \t(0.0,)\n",
            "13 \t79    \t(0.0,)\n",
            "14 \t82    \t(0.0,)\n",
            "15 \t90    \t(0.0,)\n",
            "16 \t66    \t(0.0,)\n",
            "17 \t83    \t(0.0,)\n",
            "18 \t87    \t(0.0,)\n",
            "19 \t85    \t(0.0,)\n",
            "20 \t84    \t(0.0,)\n",
            "21 \t80    \t(0.0,)\n",
            "22 \t86    \t(0.0,)\n",
            "23 \t82    \t(0.0,)\n",
            "24 \t81    \t(0.0,)\n",
            "25 \t76    \t(0.0,)\n",
            "26 \t65    \t(0.0,)\n",
            "27 \t73    \t(0.0,)\n",
            "28 \t69    \t(0.0,)\n",
            "29 \t78    \t(0.0,)\n",
            "30 \t77    \t(0.0,)\n",
            "31 \t82    \t(0.0,)\n",
            "32 \t82    \t(0.0,)\n",
            "33 \t87    \t(0.0,)\n",
            "34 \t79    \t(0.0,)\n",
            "35 \t74    \t(0.0,)\n",
            "36 \t83    \t(0.0,)\n",
            "37 \t85    \t(0.0,)\n",
            "38 \t83    \t(0.0,)\n",
            "39 \t79    \t(0.0,)\n",
            "40 \t77    \t(0.0,)\n",
            "41 \t75    \t(0.0,)\n",
            "42 \t77    \t(0.0,)\n",
            "43 \t77    \t(0.0,)\n",
            "44 \t85    \t(0.0,)\n",
            "45 \t74    \t(0.0,)\n",
            "46 \t78    \t(0.0,)\n",
            "47 \t79    \t(0.0,)\n",
            "48 \t86    \t(0.0,)\n",
            "49 \t80    \t(0.0,)\n",
            "50 \t76    \t(0.0,)\n",
            "Mejor Individuo: identity(identity(one))\n",
            "Aptitud del Mejor Individuo: 0.0\n"
          ]
        }
      ]
    }
  ]
}