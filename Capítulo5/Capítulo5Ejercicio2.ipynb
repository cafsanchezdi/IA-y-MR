{
  "nbformat": 4,
  "nbformat_minor": 0,
  "metadata": {
    "colab": {
      "provenance": []
    },
    "kernelspec": {
      "name": "python3",
      "display_name": "Python 3"
    },
    "language_info": {
      "name": "python"
    }
  },
  "cells": [
    {
      "cell_type": "markdown",
      "source": [
        "Tome un conjunto de manzanas, un conjunto de peras, un conjunto de bananos y\n",
        "un conjunto de fresas. Desarrolle un sistema clasificador de estas cuatro frutas, de manera que después de entrenar la red se le den imágenes de frutas de internet y el sistema las clasifique."
      ],
      "metadata": {
        "id": "Q1-oLKXiE_22"
      }
    },
    {
      "cell_type": "code",
      "execution_count": 22,
      "metadata": {
        "id": "y26_BNy85-oU"
      },
      "outputs": [],
      "source": [
        "from google.colab import drive\n",
        "from tensorflow.keras.preprocessing.image import ImageDataGenerator\n",
        "from tensorflow.keras.applications.inception_v3 import InceptionV3\n",
        "from tensorflow.keras import layers, models\n",
        "import matplotlib.pyplot as plt\n",
        "import os"
      ]
    },
    {
      "cell_type": "markdown",
      "source": [
        "1. Montar Google Drive\n"
      ],
      "metadata": {
        "id": "H1yb4vboMX-O"
      }
    },
    {
      "cell_type": "markdown",
      "source": [
        "2. Configurar las rutas de las carpetas de datos\n",
        "\n",
        "Aquí, establecemos las rutas de las carpetas que contienen los conjuntos de entrenamiento y prueba en Google Drive."
      ],
      "metadata": {
        "id": "vua6zfZLMkQo"
      }
    },
    {
      "cell_type": "code",
      "source": [
        "# Monta Google Drive\n",
        "drive.mount('/content/drive')\n",
        "\n",
        "# Rutas de las carpetas de datos en Google Drive\n",
        "base_path = \"/content/drive/MyDrive/Colab Notebooks/RNN_Fruits/\"\n",
        "\n",
        "train_dir = base_path + 'Training'\n",
        "test_dir = base_path + 'Test'\n"
      ],
      "metadata": {
        "colab": {
          "base_uri": "https://localhost:8080/"
        },
        "id": "rFGHHBnuJ0Fu",
        "outputId": "2c2e311c-2105-4232-92fc-adb37c52383e"
      },
      "execution_count": 11,
      "outputs": [
        {
          "output_type": "stream",
          "name": "stdout",
          "text": [
            "Drive already mounted at /content/drive; to attempt to forcibly remount, call drive.mount(\"/content/drive\", force_remount=True).\n"
          ]
        }
      ]
    },
    {
      "cell_type": "markdown",
      "source": [
        "3. Configurar Generador de imágenes.\n",
        "\n",
        "Estas líneas configuran los generadores de imágenes para el conjunto de entrenamiento y prueba. La normalización rescale=1./255 escala los valores de píxeles a un rango de 0 a 1."
      ],
      "metadata": {
        "id": "gqD7rEgqM5vk"
      }
    },
    {
      "cell_type": "code",
      "source": [
        "# Configura el generador de imágenes\n",
        "train_datagen = ImageDataGenerator(rescale=1./255)\n",
        "test_datagen = ImageDataGenerator(rescale=1./255)\n"
      ],
      "metadata": {
        "id": "oiH3BzMZKGL_"
      },
      "execution_count": 13,
      "outputs": []
    },
    {
      "cell_type": "markdown",
      "source": [
        "4. Cargar y preprocesar imágenes.\n",
        "\n",
        "Estos bloques utilizan flow_from_directory para cargar y preprocesar las imágenes de los directorios de entrenamiento y prueba, adecuando al tamaño de evaluación de 150 x 150 píxeles, clasificando en categorías de acuerdo con el título de cada subcarpeta en el directorio."
      ],
      "metadata": {
        "id": "zZU7bJG1NJn3"
      }
    },
    {
      "cell_type": "code",
      "source": [
        "\n",
        "# Carga las imágenes de los directorios y aplica el preprocesamiento\n",
        "train_generator = train_datagen.flow_from_directory(\n",
        "    train_dir, target_size=(150, 150), batch_size=32, class_mode='categorical'\n",
        ")"
      ],
      "metadata": {
        "colab": {
          "base_uri": "https://localhost:8080/"
        },
        "id": "qxFikOLjKI4R",
        "outputId": "bec1fdfe-3239-4926-a818-5c51f0189cae"
      },
      "execution_count": 14,
      "outputs": [
        {
          "output_type": "stream",
          "name": "stdout",
          "text": [
            "Found 1955 images belonging to 4 classes.\n"
          ]
        }
      ]
    },
    {
      "cell_type": "code",
      "source": [
        "test_generator = test_datagen.flow_from_directory(\n",
        "    test_dir, target_size=(150, 150), batch_size=32, class_mode='categorical'\n",
        ")"
      ],
      "metadata": {
        "colab": {
          "base_uri": "https://localhost:8080/"
        },
        "id": "4TNPUWIBKLON",
        "outputId": "4b3aec0f-27cf-4272-b302-9123edeae366"
      },
      "execution_count": 15,
      "outputs": [
        {
          "output_type": "stream",
          "name": "stdout",
          "text": [
            "Found 658 images belonging to 4 classes.\n"
          ]
        }
      ]
    },
    {
      "cell_type": "markdown",
      "source": [
        "5. Construir el modelo de red neuronal\n",
        "\n",
        "Aquí, utilizamos la arquitectura InceptionV3 como base del modelo, congelamos sus pesos y agregamos capas adicionales para la clasificación.\n",
        "\n",
        "InceptionV3 es una arquitectura de red neuronal convolucional (CNN) que ha demostrado ser efectiva en tareas de clasificación de imágenes. Esta arquitectura fue propuesta por Google en 2015 y es conocida por su complejidad y eficacia. La característica clave de InceptionV3 es el uso de módulos de \"inception\", que son bloques que contienen diferentes tamaños de convoluciones (1x1, 3x3, 5x5) y operaciones de pooling. Estos módulos permiten que la red capture patrones a diferentes escalas espaciales, mejorando así la representación de las características.\n",
        "\n",
        "* base_model base_model: Esta variable almacena la arquitectura de la red neural InceptionV3. Se utiliza como base para tu modelo de clasificación de frutas.\n",
        "* La opción include_top=False indica que no se incluirá la capa densa de clasificación original de InceptionV3, ya que se agregará una capa propia  al final."
      ],
      "metadata": {
        "id": "eGrsow1_O0u-"
      }
    },
    {
      "cell_type": "code",
      "source": [
        "\n",
        "# Construir el modelo\n",
        "base_model = InceptionV3(input_shape=(150, 150, 3), include_top=False, weights='imagenet')\n",
        "\n",
        "for layer in base_model.layers:\n",
        "    layer.trainable = False\n",
        "\n",
        "model = models.Sequential([\n",
        "    base_model,\n",
        "    layers.GlobalAveragePooling2D(),\n",
        "    layers.Dense(128, activation='relu'),\n",
        "    layers.Dense(4, activation='softmax')  # 4 clases de frutas\n",
        "])\n",
        "\n",
        "model.compile(optimizer='adam', loss='categorical_crossentropy', metrics=['accuracy'])\n"
      ],
      "metadata": {
        "colab": {
          "base_uri": "https://localhost:8080/"
        },
        "id": "GTmXvBdnKNxF",
        "outputId": "03530088-7cd7-4150-ffbe-f4fd53ffb915"
      },
      "execution_count": 16,
      "outputs": [
        {
          "output_type": "stream",
          "name": "stdout",
          "text": [
            "Downloading data from https://storage.googleapis.com/tensorflow/keras-applications/inception_v3/inception_v3_weights_tf_dim_ordering_tf_kernels_notop.h5\n",
            "87910968/87910968 [==============================] - 1s 0us/step\n"
          ]
        }
      ]
    },
    {
      "cell_type": "markdown",
      "source": [
        "6. Entrenar el modelo\n",
        "\n",
        "Este bloque de código entrena el modelo utilizando el generador de imágenes de entrenamiento y valida con el generador de imágenes de prueba.\n",
        "\n",
        "Entrenar un modelo implica ajustar los pesos de sus parámetros para que pueda realizar una tarea específica. En el contexto de redes neuronales, este proceso generalmente implica el uso de un conjunto de datos de entrenamiento etiquetado. Durante el entrenamiento, la red se ajusta iterativamente a los datos para minimizar una función de pérdida. En este caso, se utiliza el optimizador Adam y la función de pérdida categórica entropía cruzada para entrenar la red en la tarea de clasificación de frutas.\n",
        "\n",
        "El modelo pasa por las imágenes de entrenamiento, calcula la pérdida entre las predicciones y las etiquetas reales, y ajusta los pesos utilizando el optimizador para minimizar esta pérdida.\n",
        "\n",
        "Variables relevantes:\n",
        "\n",
        "\n",
        " * model: Representa tu modelo completo, que incluye la base InceptionV3 y las capas adicionales agregadas para la clasificación de frutas.\n",
        " * train_generator: Es un generador de imágenes que proporciona lotes de datos de entrenamiento junto con sus etiquetas durante el entrenamiento.\n",
        "* epochs=n: Especifica el número de veces que el modelo pasará por todo el conjunto de entrenamiento durante el entrenamiento. Se harán solo 5 para evitar sobreentrenamiento"
      ],
      "metadata": {
        "id": "IKjtAnLRPY3O"
      }
    },
    {
      "cell_type": "code",
      "source": [
        "\n",
        "# Entrenar el modelo\n",
        "history = model.fit(train_generator, epochs=5, validation_data=test_generator)\n"
      ],
      "metadata": {
        "colab": {
          "base_uri": "https://localhost:8080/"
        },
        "id": "wTJA9nIcKRHg",
        "outputId": "1bfd65e9-4c30-4994-906f-12edf0436039"
      },
      "execution_count": 19,
      "outputs": [
        {
          "output_type": "stream",
          "name": "stdout",
          "text": [
            "Epoch 1/5\n",
            "62/62 [==============================] - 138s 2s/step - loss: 1.6769e-05 - accuracy: 1.0000 - val_loss: 0.0221 - val_accuracy: 0.9863\n",
            "Epoch 2/5\n",
            "62/62 [==============================] - 137s 2s/step - loss: 1.5224e-05 - accuracy: 1.0000 - val_loss: 0.0216 - val_accuracy: 0.9863\n",
            "Epoch 3/5\n",
            "62/62 [==============================] - 136s 2s/step - loss: 1.3920e-05 - accuracy: 1.0000 - val_loss: 0.0214 - val_accuracy: 0.9863\n",
            "Epoch 4/5\n",
            "62/62 [==============================] - 128s 2s/step - loss: 1.2872e-05 - accuracy: 1.0000 - val_loss: 0.0211 - val_accuracy: 0.9863\n",
            "Epoch 5/5\n",
            "62/62 [==============================] - 133s 2s/step - loss: 1.2045e-05 - accuracy: 1.0000 - val_loss: 0.0198 - val_accuracy: 0.9878\n"
          ]
        }
      ]
    },
    {
      "cell_type": "markdown",
      "source": [
        "7. Evaluar el modelo\n",
        "\n",
        "Este bloque de código entrena el modelo utilizando el generador de imágenes de entrenamiento y valida con el generador de imágenes de prueba.\n",
        "\n",
        "Después de entrenar el modelo, es crucial evaluar su rendimiento en un conjunto de datos que no se utilizó durante el entrenamiento, llamado conjunto de prueba. Esto ayuda a determinar cómo se generaliza el modelo a datos no vistos. En este caso, se utiliza el conjunto de prueba para evaluar la precisión del modelo.\n",
        "\n",
        "La función evaluate calcula la pérdida y la precisión del modelo en el conjunto de prueba. Una precisión más alta indica un mejor rendimiento del modelo en la clasificación de nuevas imágenes no vistas durante el entrenamiento.\n",
        "\n",
        "Variables relevantes:\n",
        "* test_generator: Es un generador de imágenes que proporciona lotes de datos de prueba junto con sus etiquetas durante la evaluación.\n",
        "* model.evaluate: Calcula la pérdida y la precisión del modelo en el conjunto de prueba."
      ],
      "metadata": {
        "id": "b3PSAGVZQYG_"
      }
    },
    {
      "cell_type": "code",
      "source": [
        "\n",
        "# Evaluar el modelo\n",
        "test_loss, test_acc = model.evaluate(test_generator)\n",
        "print(f'Accuracy: {test_acc}')\n"
      ],
      "metadata": {
        "colab": {
          "base_uri": "https://localhost:8080/"
        },
        "id": "cl5YUrMxQWcU",
        "outputId": "6ef3a139-8e5c-42f5-b862-432ea434793f"
      },
      "execution_count": 20,
      "outputs": [
        {
          "output_type": "stream",
          "name": "stdout",
          "text": [
            "21/21 [==============================] - 31s 1s/step - loss: 0.0198 - accuracy: 0.9878\n",
            "Accuracy: 0.9878419637680054\n"
          ]
        }
      ]
    },
    {
      "cell_type": "markdown",
      "source": [
        "8. Visualizar gráficos de precisión y pérdida durante el entrenamiento\n",
        "\n",
        "Estos bloques generan gráficos para visualizar la precisión y la pérdida durante el entrenamiento, de esta forma se puede apreciar que tan efectivo es el modelo para realizar el trabajo de clasificación."
      ],
      "metadata": {
        "id": "LrCyQCqkP3C0"
      }
    },
    {
      "cell_type": "code",
      "source": [
        "\n",
        "# Obtén la información de entrenamiento del objeto history\n",
        "accuracy = history.history['accuracy']\n",
        "val_accuracy = history.history['val_accuracy']\n",
        "loss = history.history['loss']\n",
        "val_loss = history.history['val_loss']\n",
        "\n",
        "# Número de épocas\n",
        "epochs = range(1, len(accuracy) + 1)\n",
        "\n",
        "# Gráfico de Precisión\n",
        "plt.plot(epochs, accuracy, 'bo', label='Training accuracy')\n",
        "plt.plot(epochs, val_accuracy, 'b', label='Validation accuracy')\n",
        "plt.title('Training and Validation Accuracy')\n",
        "plt.xlabel('Epochs')\n",
        "plt.ylabel('Accuracy')\n",
        "plt.legend()\n",
        "plt.show()\n",
        "\n",
        "# Gráfico de Pérdida\n",
        "plt.plot(epochs, loss, 'bo', label='Training loss')\n",
        "plt.plot(epochs, val_loss, 'b', label='Validation loss')\n",
        "plt.title('Training and Validation Loss')\n",
        "plt.xlabel('Epochs')\n",
        "plt.ylabel('Loss')\n",
        "plt.legend()\n",
        "plt.show()\n"
      ],
      "metadata": {
        "colab": {
          "base_uri": "https://localhost:8080/",
          "height": 927
        },
        "id": "RTnft123MPIY",
        "outputId": "78f2e045-cde7-4ab7-a8d8-9c1e4176fcab"
      },
      "execution_count": 23,
      "outputs": [
        {
          "output_type": "display_data",
          "data": {
            "text/plain": [
              "<Figure size 640x480 with 1 Axes>"
            ],
            "image/png": "[encoded data removed]"
          },
          "metadata": {}
        },
        {
          "output_type": "display_data",
          "data": {
            "text/plain": [
              "<Figure size 640x480 with 1 Axes>"
            ],
            "image/png": "[encoded data removed]"
          },
          "metadata": {}
        }
      ]
    },
    {
      "cell_type": "markdown",
      "source": [
        "9. Clasificar nuevas imágenes.\n",
        "\n",
        "La función classify_image utiliza el modelo entrenado para clasificar nuevas imágenes."
      ],
      "metadata": {
        "id": "QPEpJzLWQwOe"
      }
    },
    {
      "cell_type": "code",
      "source": [
        "\n",
        "# Clasificar nuevas imágenes\n",
        "def classify_image(image_path):\n",
        "    img = image.load_img(image_path, target_size=(150, 150))\n",
        "    img_array = image.img_to_array(img)\n",
        "    img_array = np.expand_dims(img_array, axis=0)\n",
        "    img_array /= 255.\n",
        "\n",
        "    prediction = model.predict(img_array)\n",
        "    predicted_class = np.argmax(prediction)\n",
        "\n",
        "    return predicted_class"
      ],
      "metadata": {
        "id": "_-lKz7bpP5hq"
      },
      "execution_count": 24,
      "outputs": []
    }
  ]
}