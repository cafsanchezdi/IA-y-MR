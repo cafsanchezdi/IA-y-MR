{
  "nbformat": 4,
  "nbformat_minor": 0,
  "metadata": {
    "colab": {
      "provenance": []
    },
    "kernelspec": {
      "name": "python3",
      "display_name": "Python 3"
    },
    "language_info": {
      "name": "python"
    }
  },
  "cells": [
    {
      "cell_type": "markdown",
      "source": [
        "####Una empresa proveedora de energía eléctrica dispone de cuatro plantas de generación para satisfacer la demanda diaria de energía eléctrica en Cali, Bogotá, Medellín y Barranquilla. Cada una puede generar 3, 6, 5 y 4 GW al día respectivamente. Las necesidades de Cali, Bogotá, Medellín y Barranquilla son de 4, 3, 5 y 3 GW al día respectivamente. Los costos por el transporte de energía por cada GW entre plantas y ciudades se dan en la siguiente tabla:\n",
        "![imagen.png](data:image/png;base64,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)\n",
        "#### Los costos del KW-H por generador se dan en la siguiente tabla:\n",
        "![imagen.png](data:image/png;base64,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)\n",
        "####Encontrar usando AGs el mejor despacho de energía minimizando los costos de transporte y generación."
      ],
      "metadata": {
        "id": "AtadS9hIFaH5"
      }
    },
    {
      "cell_type": "markdown",
      "source": [
        "Parámetros:\n",
        "\n",
        "    ciudades: Lista de nombres de ciudades.\n",
        "    plantas: Lista de nombres de plantas.\n",
        "    capacidad: Lista de capacidades de generación de las plantas.\n",
        "    necesidad: Lista de necesidades de cada ciudad.\n",
        "    costo_transporte: Matriz de costos de transporte entre plantas y ciudades.\n",
        "    costo_generador: Lista de costos por KW-H por generador.\n",
        "    uso_min: Suma de necesidades mínimas para asegurar el suministro."
      ],
      "metadata": {
        "id": "xFVs4A58k-8g"
      }
    },
    {
      "cell_type": "code",
      "execution_count": 1,
      "metadata": {
        "id": "gysepHrSFICD"
      },
      "outputs": [],
      "source": [
        "import random\n",
        "import numpy as np\n",
        "\n",
        "#Definir Parámetros\n",
        "ciudades = [\"Cali\",\"Bogotá\",\"Medellín\",\"Barranquilla\"]\n",
        "plantas = [\"C\",\"B\",\"M\",\"B\"]\n",
        "capacidad = [3,6,5,4]\n",
        "necesidad = [4,3,5,3]\n",
        "\n",
        "costo_transporte = [\n",
        "    [1,4,3,6],\n",
        "    [4,1,4,5],\n",
        "    [3,4,1,4],\n",
        "    [6,5,4,1]\n",
        "]\n",
        "\n",
        "costo_generador= [680,720,660,750]\n",
        "uso_min = sum(necesidad)"
      ]
    },
    {
      "cell_type": "markdown",
      "source": [
        "Parámetros del AG:\n",
        "\n",
        "    pop: Tamaño de la población.\n",
        "    gens: Número de generaciones.\n",
        "    mut: Probabilidad de mutación."
      ],
      "metadata": {
        "id": "tKC3q0WrlBwy"
      }
    },
    {
      "cell_type": "code",
      "source": [
        "#Parametros del AG\n",
        "pop = 150\n",
        "gens = 100\n",
        "mut = 0.1 #Mutación del 10%"
      ],
      "metadata": {
        "id": "pRg1UboCRze2"
      },
      "execution_count": 2,
      "outputs": []
    },
    {
      "cell_type": "markdown",
      "source": [
        "Funciones Principales:\n",
        "\n",
        "    f_cc(x):\n",
        "        Calcula el costo total de una solución x.\n",
        "        Considera costos de generación y transporte.\n",
        "        Penaliza el subuso de capacidad de generación.\n",
        "\n",
        "    f_rnds():\n",
        "        Genera una solución aleatoria.\n",
        "\n",
        "    cruzar(padre, madre):\n",
        "        Cruza dos soluciones para generar dos hijos.\n",
        "\n",
        "    mutar(solucion):\n",
        "        Aplica mutación a una solución dada.\n",
        "\n",
        "    algoritmo_genetico():\n",
        "        Implementa el Algoritmo Genético para encontrar la mejor asignación de energía.\n",
        "\n",
        "    obtener_asignacion(mejor_solucion):\n",
        "        Obtiene la asignación de energía basada en la mejor solución."
      ],
      "metadata": {
        "id": "QeopbKsnlEnu"
      }
    },
    {
      "cell_type": "code",
      "source": [
        "#Funcion para calcular costos\n",
        "\n",
        "def f_cc(x):\n",
        "    costo_t = 0\n",
        "    suministro_t = [0]*len(plantas)\n",
        "\n",
        "    for ind_c, ind_p in enumerate(x):\n",
        "        costo_t += costo_generador[ind_p] * necesidad[ind_c]           #Se le suma al costo total el costo de generacion multiplicado por la necesidad de la planta\n",
        "        suministro_t[ind_p] += necesidad[ind_c]\n",
        "\n",
        "        for i in range(len(x)):\n",
        "            costo_t += costo_transporte[ind_p][i]\n",
        "\n",
        "    for planta_index, suministro in enumerate(suministro_t):\n",
        "        if suministro < capacidad[planta_index]:                                  #Revisar que no haya suministro mayor a la capacidad\n",
        "            costo_t += (capacidad[planta_index] - suministro) * costo_generador[planta_index]\n",
        "\n",
        "    return costo_t"
      ],
      "metadata": {
        "id": "HQ4tlbPbwW-t"
      },
      "execution_count": 3,
      "outputs": []
    },
    {
      "cell_type": "code",
      "source": [
        "#Solución al azar\n",
        "def f_rnds():\n",
        "    return [random.randint(0, len(plantas) - 1) for _ in range(len(ciudades))]\n",
        "\n"
      ],
      "metadata": {
        "id": "gHrbZxmfyqkS"
      },
      "execution_count": 4,
      "outputs": []
    },
    {
      "cell_type": "code",
      "source": [
        "#Función de Cruce\n",
        "def cruzar(padre,madre):\n",
        "    punto_cruce = random.randint(1, len(padre) - 1)\n",
        "    hijo1 = padre[:punto_cruce] + madre[punto_cruce:]\n",
        "    hijo2 = madre[:punto_cruce] + padre[punto_cruce:]\n",
        "    return hijo1, hijo2\n",
        "\n"
      ],
      "metadata": {
        "id": "k7RZMpVKzADg"
      },
      "execution_count": 5,
      "outputs": []
    },
    {
      "cell_type": "code",
      "source": [
        "#Función de Mutación\n",
        "def mutar(solucion):\n",
        "    for i in range(len(solucion)):\n",
        "        if random.random() < mut:\n",
        "            solucion[i] = random.randint(0, len(plantas) - 1)\n",
        "    return solucion\n"
      ],
      "metadata": {
        "id": "gg_0ikSRzMKH"
      },
      "execution_count": 6,
      "outputs": []
    },
    {
      "cell_type": "code",
      "source": [
        "#Algoritmo genético\n",
        "def algoritmo_genetico():\n",
        "    poblacion = [f_rnds() for _ in range(pop)]\n",
        "\n",
        "    for generacion in range(gens):\n",
        "        poblacion = sorted(poblacion, key=lambda x: f_cc(x))\n",
        "        mejores_soluciones = poblacion[:5]  # Tomar las 5 mejores soluciones\n",
        "\n",
        "        nueva_generacion = mejores_soluciones.copy()\n",
        "        while len(nueva_generacion) < pop:\n",
        "            padre, madre = random.choices(mejores_soluciones, k=2)\n",
        "            hijo1, hijo2 = cruzar(padre, madre)\n",
        "            hijo1 = mutar(hijo1)\n",
        "            hijo2 = mutar(hijo2)\n",
        "            nueva_generacion.extend([hijo1, hijo2])\n",
        "\n",
        "        poblacion = nueva_generacion\n",
        "\n",
        "    mejor_solucion = min(poblacion, key=lambda x: f_cc(x))\n",
        "    mejor_costo = f_cc(mejor_solucion)\n",
        "\n",
        "    return mejor_solucion, mejor_costo"
      ],
      "metadata": {
        "id": "WvckRsfnzYGr"
      },
      "execution_count": 7,
      "outputs": []
    },
    {
      "cell_type": "code",
      "source": [
        "def obtener_asignacion(mejor_solucion):\n",
        "    asignacion = [[0 for _ in range(len(ciudades))] for _ in range(len(plantas))]\n",
        "\n",
        "    for ciudad_index, planta_index in enumerate(mejor_solucion):\n",
        "        asignacion[planta_index][ciudad_index] += necesidad[ciudad_index]\n",
        "\n",
        "    return asignacion"
      ],
      "metadata": {
        "id": "Jaj8PxcK0xT9"
      },
      "execution_count": 8,
      "outputs": []
    },
    {
      "cell_type": "markdown",
      "source": [
        "Ejecución y Resultados:\n",
        "\n",
        "    Ejecuta el Algoritmo Genético.\n",
        "    Muestra la mejor asignación de energía y su costo asociado."
      ],
      "metadata": {
        "id": "hGPV6J9GlK2P"
      }
    },
    {
      "cell_type": "code",
      "source": [
        "#Comprobación\n",
        "mejor_solucion, mejor_costo = algoritmo_genetico()\n",
        "asignacion = obtener_asignacion(mejor_solucion)\n",
        "print(\"Mejor asignación de energía:\")\n",
        "print(\"        C     |    Bt   |    M    |    Bq  \")\n",
        "for i in range(len(plantas)):\n",
        "    print(plantas[i], \": \", end=\"\")\n",
        "    for j in range(len(ciudades)):\n",
        "        print(asignacion[i][j], \"GW\", end=\" | \" if j < len(ciudades) - 1 else \"\\n\") #Cada fila representa una planta, cada columna representa una ciudad\n",
        "\n",
        "print(\"Costo de la solución:\", mejor_costo)"
      ],
      "metadata": {
        "colab": {
          "base_uri": "https://localhost:8080/"
        },
        "id": "AUTV3jkDz8r-",
        "outputId": "4a7bf050-5655-4134-fab7-260cb03ccfaf"
      },
      "execution_count": 9,
      "outputs": [
        {
          "output_type": "stream",
          "name": "stdout",
          "text": [
            "Mejor asignación de energía:\n",
            "        C     |    Bt   |    M    |    Bq  \n",
            "C : 0 GW | 3 GW | 0 GW | 0 GW\n",
            "B : 0 GW | 0 GW | 0 GW | 3 GW\n",
            "M : 0 GW | 0 GW | 5 GW | 0 GW\n",
            "B : 4 GW | 0 GW | 0 GW | 0 GW\n",
            "Costo de la solución: 12716\n"
          ]
        }
      ]
    }
  ]
}