{
  "nbformat": 4,
  "nbformat_minor": 0,
  "metadata": {
    "colab": {
      "provenance": []
    },
    "kernelspec": {
      "name": "python3",
      "display_name": "Python 3"
    },
    "language_info": {
      "name": "python"
    }
  },
  "cells": [
    {
      "cell_type": "markdown",
      "source": [
        "#Suponga que tiene una lista de 15 alimentos con número de calorías, gramos de proteína, gramos de grasa y gramos de carbohidratos. Suponga que un individuo debe consumir determinada cantidad de calorías, proteínas, grasa y carbohidratos. Genere una dieta para ese individuo.\n",
        "\n",
        "Nos vamos a valer de la lista proporcionada del profesor, \"lista de alimentos.txt\", y de ella vamos a sacar 15 alimentos al azar para generar la dieta.\n",
        "\n"
      ],
      "metadata": {
        "id": "cr2psMT5t9Nk"
      }
    },
    {
      "cell_type": "code",
      "source": [
        "from google.colab import files\n",
        "uploaded = files.upload()"
      ],
      "metadata": {
        "colab": {
          "base_uri": "https://localhost:8080/",
          "height": 39
        },
        "id": "djxDJvaDuVIU",
        "outputId": "2b1b988c-c3ec-46c2-98de-25d46dc133b8"
      },
      "execution_count": 61,
      "outputs": [
        {
          "output_type": "display_data",
          "data": {
            "text/plain": [
              "<IPython.core.display.HTML object>"
            ],
            "text/html": [
              "\n",
              "     <input type=\"file\" id=\"files-33b84db8-1567-4d20-8237-272817105723\" name=\"files[]\" multiple disabled\n",
              "        style=\"border:none\" />\n",
              "     <output id=\"result-33b84db8-1567-4d20-8237-272817105723\">\n",
              "      Upload widget is only available when the cell has been executed in the\n",
              "      current browser session. Please rerun this cell to enable.\n",
              "      </output>\n",
              "      <script>// Copyright 2017 Google LLC\n",
              "//\n",
              "// Licensed under the Apache License, Version 2.0 (the \"License\");\n",
              "// you may not use this file except in compliance with the License.\n",
              "// You may obtain a copy of the License at\n",
              "//\n",
              "//      http://www.apache.org/licenses/LICENSE-2.0\n",
              "//\n",
              "// Unless required by applicable law or agreed to in writing, software\n",
              "// distributed under the License is distributed on an \"AS IS\" BASIS,\n",
              "// WITHOUT WARRANTIES OR CONDITIONS OF ANY KIND, either express or implied.\n",
              "// See the License for the specific language governing permissions and\n",
              "// limitations under the License.\n",
              "\n",
              "/**\n",
              " * @fileoverview Helpers for google.colab Python module.\n",
              " */\n",
              "(function(scope) {\n",
              "function span(text, styleAttributes = {}) {\n",
              "  const element = document.createElement('span');\n",
              "  element.textContent = text;\n",
              "  for (const key of Object.keys(styleAttributes)) {\n",
              "    element.style[key] = styleAttributes[key];\n",
              "  }\n",
              "  return element;\n",
              "}\n",
              "\n",
              "// Max number of bytes which will be uploaded at a time.\n",
              "const MAX_PAYLOAD_SIZE = 100 * 1024;\n",
              "\n",
              "function _uploadFiles(inputId, outputId) {\n",
              "  const steps = uploadFilesStep(inputId, outputId);\n",
              "  const outputElement = document.getElementById(outputId);\n",
              "  // Cache steps on the outputElement to make it available for the next call\n",
              "  // to uploadFilesContinue from Python.\n",
              "  outputElement.steps = steps;\n",
              "\n",
              "  return _uploadFilesContinue(outputId);\n",
              "}\n",
              "\n",
              "// This is roughly an async generator (not supported in the browser yet),\n",
              "// where there are multiple asynchronous steps and the Python side is going\n",
              "// to poll for completion of each step.\n",
              "// This uses a Promise to block the python side on completion of each step,\n",
              "// then passes the result of the previous step as the input to the next step.\n",
              "function _uploadFilesContinue(outputId) {\n",
              "  const outputElement = document.getElementById(outputId);\n",
              "  const steps = outputElement.steps;\n",
              "\n",
              "  const next = steps.next(outputElement.lastPromiseValue);\n",
              "  return Promise.resolve(next.value.promise).then((value) => {\n",
              "    // Cache the last promise value to make it available to the next\n",
              "    // step of the generator.\n",
              "    outputElement.lastPromiseValue = value;\n",
              "    return next.value.response;\n",
              "  });\n",
              "}\n",
              "\n",
              "/**\n",
              " * Generator function which is called between each async step of the upload\n",
              " * process.\n",
              " * @param {string} inputId Element ID of the input file picker element.\n",
              " * @param {string} outputId Element ID of the output display.\n",
              " * @return {!Iterable<!Object>} Iterable of next steps.\n",
              " */\n",
              "function* uploadFilesStep(inputId, outputId) {\n",
              "  const inputElement = document.getElementById(inputId);\n",
              "  inputElement.disabled = false;\n",
              "\n",
              "  const outputElement = document.getElementById(outputId);\n",
              "  outputElement.innerHTML = '';\n",
              "\n",
              "  const pickedPromise = new Promise((resolve) => {\n",
              "    inputElement.addEventListener('change', (e) => {\n",
              "      resolve(e.target.files);\n",
              "    });\n",
              "  });\n",
              "\n",
              "  const cancel = document.createElement('button');\n",
              "  inputElement.parentElement.appendChild(cancel);\n",
              "  cancel.textContent = 'Cancel upload';\n",
              "  const cancelPromise = new Promise((resolve) => {\n",
              "    cancel.onclick = () => {\n",
              "      resolve(null);\n",
              "    };\n",
              "  });\n",
              "\n",
              "  // Wait for the user to pick the files.\n",
              "  const files = yield {\n",
              "    promise: Promise.race([pickedPromise, cancelPromise]),\n",
              "    response: {\n",
              "      action: 'starting',\n",
              "    }\n",
              "  };\n",
              "\n",
              "  cancel.remove();\n",
              "\n",
              "  // Disable the input element since further picks are not allowed.\n",
              "  inputElement.disabled = true;\n",
              "\n",
              "  if (!files) {\n",
              "    return {\n",
              "      response: {\n",
              "        action: 'complete',\n",
              "      }\n",
              "    };\n",
              "  }\n",
              "\n",
              "  for (const file of files) {\n",
              "    const li = document.createElement('li');\n",
              "    li.append(span(file.name, {fontWeight: 'bold'}));\n",
              "    li.append(span(\n",
              "        `(${file.type || 'n/a'}) - ${file.size} bytes, ` +\n",
              "        `last modified: ${\n",
              "            file.lastModifiedDate ? file.lastModifiedDate.toLocaleDateString() :\n",
              "                                    'n/a'} - `));\n",
              "    const percent = span('0% done');\n",
              "    li.appendChild(percent);\n",
              "\n",
              "    outputElement.appendChild(li);\n",
              "\n",
              "    const fileDataPromise = new Promise((resolve) => {\n",
              "      const reader = new FileReader();\n",
              "      reader.onload = (e) => {\n",
              "        resolve(e.target.result);\n",
              "      };\n",
              "      reader.readAsArrayBuffer(file);\n",
              "    });\n",
              "    // Wait for the data to be ready.\n",
              "    let fileData = yield {\n",
              "      promise: fileDataPromise,\n",
              "      response: {\n",
              "        action: 'continue',\n",
              "      }\n",
              "    };\n",
              "\n",
              "    // Use a chunked sending to avoid message size limits. See b/62115660.\n",
              "    let position = 0;\n",
              "    do {\n",
              "      const length = Math.min(fileData.byteLength - position, MAX_PAYLOAD_SIZE);\n",
              "      const chunk = new Uint8Array(fileData, position, length);\n",
              "      position += length;\n",
              "\n",
              "      const base64 = btoa(String.fromCharCode.apply(null, chunk));\n",
              "      yield {\n",
              "        response: {\n",
              "          action: 'append',\n",
              "          file: file.name,\n",
              "          data: base64,\n",
              "        },\n",
              "      };\n",
              "\n",
              "      let percentDone = fileData.byteLength === 0 ?\n",
              "          100 :\n",
              "          Math.round((position / fileData.byteLength) * 100);\n",
              "      percent.textContent = `${percentDone}% done`;\n",
              "\n",
              "    } while (position < fileData.byteLength);\n",
              "  }\n",
              "\n",
              "  // All done.\n",
              "  yield {\n",
              "    response: {\n",
              "      action: 'complete',\n",
              "    }\n",
              "  };\n",
              "}\n",
              "\n",
              "scope.google = scope.google || {};\n",
              "scope.google.colab = scope.google.colab || {};\n",
              "scope.google.colab._files = {\n",
              "  _uploadFiles,\n",
              "  _uploadFilesContinue,\n",
              "};\n",
              "})(self);\n",
              "</script> "
            ]
          },
          "metadata": {}
        }
      ]
    },
    {
      "cell_type": "code",
      "source": [
        "with open(\"Lista de alimentos.txt\", \"r\") as file:\n",
        "    lines = file.readlines()\n",
        "\n",
        "print(lines[1:3])"
      ],
      "metadata": {
        "colab": {
          "base_uri": "https://localhost:8080/"
        },
        "id": "nlckgZ1luujl",
        "outputId": "459eb67f-c04d-4e41-f4bc-0dd0fd60c4b7"
      },
      "execution_count": 62,
      "outputs": [
        {
          "output_type": "stream",
          "name": "stdout",
          "text": [
            "['Leche descremada  en polvo,36,5.1,3.5,0.1)\\n', 'Leche entera,57,4.5,3,3)\\n']\n"
          ]
        }
      ]
    },
    {
      "cell_type": "code",
      "source": [
        "alimentos_f = []\n",
        "for line in lines:\n",
        "  line = line.rstrip(\")\\n\") #Quitar el paréntesis al final\n",
        "  val = line.split(\",\") #dividir en comas\n",
        "  if(len(val) == 5): #Quitamos de la lista los alimentos que tengan errores de indexación y convertimos los valores numéricos en variables tipo float\n",
        "    val[1] = float(val[1])\n",
        "    val[2] = float(val[2])\n",
        "    val[3] = float(val[3])\n",
        "    val[4] = float(val[4])\n",
        "    alimentos_f.append(val)\n",
        "\n",
        "print(alimentos_f)"
      ],
      "metadata": {
        "colab": {
          "base_uri": "https://localhost:8080/"
        },
        "id": "hFQi97hRvOz4",
        "outputId": "f7428576-4a9a-464f-d5e2-115660921bd7"
      },
      "execution_count": 63,
      "outputs": [
        {
          "output_type": "stream",
          "name": "stdout",
          "text": [
            "[['Leche chocolatada', 62.0, 10.0, 3.0, 1.1], ['Leche descremada  en polvo', 36.0, 5.1, 3.5, 0.1], ['Leche entera', 57.0, 4.5, 3.0, 3.0], ['Leche entera azucarada', 79.0, 10.0, 3.0, 3.0], ['Leche descremada', 45.0, 4.7, 3.1, 1.5], ['Leche cultiv.descr.', 32.0, 4.3, 3.6, 0.1], ['Leche cultiv. entera/frutas', 89.0, 14.0, 3.5, 2.2], ['Yogur con cereales', 48.0, 9.0, 3.0, 0.05], ['Yogur con durazno', 48.0, 9.0, 3.0, 0.05], ['Yogur con fibras y frutas', 71.0, 12.5, 4.7, 0.2], ['Yogur con cereal azucar', 119.0, 21.0, 3.8, 2.2], ['Yogur descr. saborizado', 34.5, 4.4, 3.6, 0.05], ['Yogur descr. y All  Bran', 75.0, 12.5, 5.1, 0.4], ['Yogur descr. con frutas', 48.0, 9.0, 2.8, 0.03], ['Yogur descr. y corn flakes', 63.0, 11.4, 4.2, 0.04], ['Queso ¨Philadelphia¨ ligth', 200.0, 6.6, 10.0, 16.6], ['Queso Blanco diet', 100.0, 7.4, 9.9, 3.5], ['Queso camembert0brie', 527.0, 0.0, 26.7, 29.7], ['Queso cheddar Argentino', 374.0, 0.0, 26.0, 30.0], ['Queso chubut', 328.0, 0.0, 25.9, 24.9], ['Queso cottage', 95.0, 2.0, 11.4, 4.5], ['Queso crema', 245.0, 3.7, 8.2, 22.0], ['Queso cremoso', 305.0, 1.3, 18.7, 25.0], ['Queso cuartirolo', 273.0, 0.0, 21.0, 21.0], ['Queso dambo', 356.0, 0.0, 26.0, 28.0], ['Queso de cabra', 173.0, 3.7, 16.0, 10.3], ['Queso de máquina', 250.0, 1.9, 16.5, 17.2], ['Queso edam', 345.0, 26.0, 22.0, 27.0], ['Queso edam diet', 268.0, 1.0, 30.0, 16.0], ['Queso emmenthal', 403.0, 0.5, 27.8, 28.2], ['Queso fiambrín', 334.0, 1.2, 17.0, 29.0], ['Queso fontina', 369.0, 0.0, 27.0, 29.0], ['Queso fresco', 307.0, 1.0, 24.0, 23.0], ['Queso fresco diet', 230.0, 1.0, 24.0, 15.0], ['Queso fundido untable', 285.0, 2.9, 10.0, 25.9], ['Queso fymbo', 348.0, 0.0, 24.0, 28.0], ['Queso gruyere', 357.0, 10.0, 28.0, 26.0], ['Queso holanda', 360.0, 0.0, 24.0, 28.0], ['Queso Mar del Plata', 400.0, 0.0, 29.5, 31.3], ['Queso mini fymbo', 343.0, 0.0, 25.0, 27.0], ['Queso Mozzarella', 334.0, 0.0, 24.0, 26.0], ['Queso Neufchatel', 237.0, 2.2, 9.8, 21.0], ['Queso parmesano', 393.0, 2.9, 36.0, 26.0], ['Queso pategrás', 365.0, 0.0, 26.0, 29.0], ['Queso petit suisse', 165.0, 3.5, 7.5, 13.0], ['Queso Port Salut', 295.0, 0.0, 22.0, 23.0], ['Queso Port salut diet', 214.0, 0.5, 26.0, 12.0], ['Queso provolone', 392.0, 0.0, 30.5, 30.0], ['Queso rallado', 427.0, 0.0, 42.5, 28.5], ['Queso reggianito', 334.0, 0.0, 34.0, 22.0], ['Queso ricotta', 185.0, 2.5, 14.5, 13.0], ['Queso ricotta descr.', 105.0, 2.0, 13.0, 5.0], ['Queso roquefort', 364.0, 0.0, 20.0, 31.0], ['Queso sardo', 367.0, 0.0, 31.0, 27.0], ['Queso tilsit diet.', 270.0, 1.0, 30.0, 17.0], ['Queso tofu', 134.0, 1.0, 13.0, 9.0], ['Clara de huevo', 53.0, 1.0, 11.0, 0.2], ['Huevo de codorniz', 179.0, 3.6, 11.6, 13.1], ['Yema de huevo', 341.0, 2.0, 16.0, 29.2], ['Bife angosto', 182.0, 0.0, 20.8, 10.3], ['Cuadril', 303.0, 0.0, 17.4, 25.3], ['Cuadril magro', 158.0, 0.0, 21.2, 7.5], ['Hamburguesa', 230.0, 0.5, 14.0, 18.3], ['Hamburguesa diet.', 112.0, 2.4, 17.0, 3.6], ['Lomo semigordo', 241.0, 0.0, 18.5, 17.9], ['Lomo magro', 148.0, 0.0, 20.7, 6.5], ['Tapa de asado c/grasa', 325.0, 0.0, 16.63, 28.15], ['Tapa de asado magra', 154.0, 0.0, 20.75, 7.28], ['Tira de asado', 401.0, 0.0, 14.8, 37.4], ['Tira de asado magro', 193.0, 0.0, 20.7, 11.6], ['Vacío', 144.0, 0.0, 21.6, 5.7], ['Carne de cerdo gorda', 346.0, 0.0, 14.6, 31.4], ['Carne de cerdo magra', 276.0, 0.0, 16.7, 22.7], ['Chivo', 165.0, 0.0, 18.7, 9.4], ['Ciervo', 120.0, 0.0, 22.9, 2.4], ['Liebre', 135.0, 0.0, 21.0, 5.0], ['carne de Conejo', 156.0, 0.0, 20.3, 7.7], ['Chinchulines de vaca', 98.0, 0.0, 14.5, 3.9], ['Hígado de vaca', 134.0, 3.6, 19.8, 3.9], ['Lengua de vaca', 191.0, 0.9, 16.0, 13.2], ['Mollejas de vaca', 229.0, 0.0, 14.4, 19.0], ['Mondongo de vaca', 90.0, 1.4, 14.0, 2.7], ['Riñón de vaca', 124.0, 1.8, 16.8, 5.0], ['Bondiola', 353.0, 0.0, 21.0, 30.0], ['Chorizo', 373.0, 2.0, 12.5, 31.0], ['Jamón cocido', 126.0, 3.0, 20.0, 4.0], ['Jamón crudo', 296.0, 0.0, 25.8, 20.6], ['Lomo', 153.0, 3.0, 23.0, 5.0], ['Mortadela', 309.0, 4.0, 17.0, 25.0], ['Paleta', 121.0, 3.0, 16.0, 5.0], ['Panceta ahumada', 558.0, 9.0, 58.0, 31.0], ['Pastrón', 125.0, 2.0, 18.0, 5.0], ['Leberwurst', 294.0, 3.0, 21.0, 22.0], ['Picadillo de carne', 182.0, 3.3, 12.0, 13.5], ['Salamín', 325.0, 0.0, 23.0, 26.0], ['Salchicha de viena', 269.0, 4.6, 12.0, 22.5], ['Salchicha de viena diet.', 150.0, 0.0, 13.9, 10.5], ['Hamburguesa de pollo', 153.0, 1.8, 19.1, 7.7], ['Pavita', 163.0, 0.0, 21.7, 6.5], ['Menudos de pollo', 103.0, 0.1, 17.5, 3.1], ['Bacalao', 77.0, 0.0, 17.5, 0.3], ['Brótola', 84.0, 0.0, 16.7, 0.8], ['Caballa', 165.0, 0.0, 21.3, 8.2], ['Lenguado', 87.0, 0.0, 19.0, 0.5], ['Merluza', 90.0, 0.0, 19.3, 0.8], ['Pejerrey', 87.0, 0.0, 18.8, 0.9], ['Salmón rosado', 99.0, 0.0, 16.95, 2.93], ['Surubí', 109.0, 0.0, 18.2, 4.0], ['Anchoas', 175.0, 0.0, 11.7, 10.0], ['Arenque en salmuera', 219.0, 0.0, 21.0, 15.0], ['Atún en aceite', 288.0, 0.0, 24.2, 20.5], ['Atún en agua', 127.0, 0.0, 28.0, 0.8], ['Caviar en lata', 262.0, 3.3, 26.9, 15.0], ['Kani0Kama', 80.0, 0.0, 10.5, 0.3], ['Sardinas en aceite', 238.0, 0.0, 23.4, 13.2], ['Almeja', 76.0, 2.0, 12.6, 1.6], ['Calamar', 78.0, 0.0, 16.4, 0.9], ['Langosta', 88.0, 0.5, 16.2, 1.9], ['Langostino', 115.0, 0.0, 17.9, 4.3], ['Mejillón', 95.0, 3.2, 14.4, 2.1], ['Ostra', 44.0, 3.5, 5.8, 0.5], ['Pulpo', 56.0, 0.0, 12.6, 0.3], ['Vieira', 78.0, 3.4, 14.8, 0.1], ['Acelga', 25.0, 4.6, 2.4, 0.3], ['Achicoria', 20.0, 3.8, 1.8, 0.3], ['Ají Morrón rojo', 24.0, 5.1, 0.8, 0.2], ['Alcaucil', 33.0, 6.9, 2.8, 0.2], ['Apio', 21.0, 3.3, 1.1, 0.0], ['Arvejas', 84.0, 14.4, 6.3, 0.4], ['Batata', 114.0, 26.3, 1.7, 0.4], ['Berenjena', 25.0, 5.6, 1.2, 0.2], ['Berro', 19.0, 3.0, 2.2, 0.3], ['Brócoli', 32.0, 5.9, 3.6, 0.3], ['Calabaza', 26.0, 6.5, 1.0, 0.1], ['Cebolla', 38.0, 8.7, 1.5, 0.1], ['Chauchas', 32.0, 7.1, 1.9, 0.2], ['Col de Bruselas', 45.0, 8.3, 4.9, 0.4], ['Repollo Blanco', 24.0, 5.4, 1.3, 0.2], ['Repollo Colorado', 31.0, 6.9, 2.0, 0.2], ['Coliflor', 27.0, 5.2, 2.7, 0.2], ['Endibia', 20.0, 4.1, 1.7, 0.1], ['Escarola', 20.0, 4.1, 1.7, 0.1], ['Espinaca', 26.0, 4.3, 3.2, 0.3], ['Espárrago', 26.0, 5.0, 2.5, 0.2], ['Haba', 118.0, 20.3, 9.3, 0.4], ['Hinojo', 28.0, 5.1, 2.8, 0.4], ['Hongos', 28.0, 4.4, 2.7, 0.3], ['Lechuga', 13.0, 2.9, 0.9, 0.1], ['Choclo', 96.0, 22.1, 3.5, 1.0], ['Palmito', 26.0, 5.2, 2.2, 0.2], ['Palta', 162.0, 6.4, 1.8, 16.0], ['Papa', 76.0, 17.1, 2.1, 0.1], ['Pepino', 15.0, 2.7, 0.7, 0.1], ['Rabanito', 16.0, 2.8, 0.6, 0.1], ['Remolacha', 44.0, 9.5, 1.7, 0.1], ['Tomate', 22.0, 4.7, 1.1, 0.2], ['Zanahoria', 42.0, 9.7, 1.1, 0.2], ['Zapallito', 17.0, 3.6, 1.2, 0.1], ['Arvejas secas', 340.0, 60.3, 24.1, 1.3], ['Garbanzos', 360.0, 61.0, 20.5, 4.8], ['Lentejas', 340.0, 60.1, 24.7, 1.1], ['Porotos', 340.0, 61.3, 22.3, 1.6], ['Ananá', 52.0, 13.7, 0.4, 0.2], ['Banana', 85.0, 22.2, 1.1, 0.2], ['Cereza', 58.0, 14.3, 1.2, 0.3], ['Ciruela', 47.0, 11.9, 0.6, 0.2], ['Coco fresco', 296.0, 13.7, 3.5, 27.2], ['Damasco', 57.0, 13.8, 0.8, 0.6], ['Durazno', 52.0, 13.3, 0.8, 0.2], ['Frutilla', 36.0, 8.5, 0.8, 0.3], ['Granada', 67.0, 16.2, 0.8, 0.7], ['Higo', 62.0, 15.6, 1.2, 0.2], ['Kinoto', 62.0, 15.6, 1.3, 0.2], ['Kiwi', 53.0, 10.8, 0.8, 0.6], ['Limón', 29.0, 8.1, 0.6, 0.6], ['Mandarina', 43.0, 10.9, 0.7, 0.2], ['Manzana', 58.0, 15.2, 0.3, 0.3], ['Melón', 44.0, 11.1, 0.6, 0.3], ['Naranja', 42.0, 10.5, 0.8, 0.2], ['Níspero', 44.0, 10.7, 0.2, 0.6], ['Pera', 56.0, 14.8, 0.3, 0.2], ['Pomelo', 41.0, 10.6, 0.5, 0.1], ['Sandía', 22.0, 5.3, 0.5, 0.1], ['Uva', 68.0, 16.7, 0.6, 0.7], ['Almendra', 547.0, 19.6, 18.6, 54.1], ['Avellana', 647.0, 19.8, 10.8, 63.2], ['Castaña de pará', 640.0, 20.5, 13.2, 60.3], ['Maní', 560.0, 17.5, 26.7, 47.3], ['Nuez', 664.0, 13.2, 13.7, 67.2], ['Pistacho', 594.0, 19.0, 19.3, 53.7], ['Ciruela', 255.0, 67.4, 21.0, 0.6], ['Durazno', 262.0, 68.3, 3.1, 0.7], ['Dátil', 274.0, 72.9, 2.2, 0.5], ['Higo', 274.0, 69.1, 4.3, 1.3], ['Pasa de uva', 289.0, 77.4, 2.5, 0.2], ['Ananá', 35.0, 8.34, 0.38, 0.12], ['Cóctel de Frutas diet', 36.0, 8.34, 0.38, 0.12], ['Durazno en almíbar diet', 14.0, 2.8, 0.2, 0.2], ['Peras en almíbar diet', 25.0, 5.5, 0.4, 0.2], ['All Bran', 233.0, 73.3, 13.3, 3.3], ['Arroz Blanco', 343.0, 78.6, 6.7, 0.25], ['Arroz integral', 353.0, 75.8, 8.7, 1.7], ['Avena ¨Nestum¨', 410.0, 71.5, 13.0, 8.0], ['Avena arrollada', 387.0, 62.5, 12.7, 9.5], ['Cereal Mix', 375.0, 67.5, 9.5, 7.2], ['Choco cereal', 400.0, 86.7, 6.7, 3.3], ['Copos de Maíz', 367.0, 83.0, 6.6, 0.0], ['Copos de Maíz azucarados', 367.0, 93.0, 3.3, 0.0], ['Froot Loops', 367.0, 83.3, 6.7, 3.3], ['Harina de Gluten', 378.0, 47.2, 41.4, 1.9], ['Sémola', 346.0, 71.0, 12.0, 1.5], ['Cappelettis cuatro Quesos', 275.0, 47.0, 8.5, 5.9], ['Fideos', 369.0, 75.2, 12.5, 1.2], ['Fideos soperos', 343.0, 72.2, 11.0, 1.1], ['Masa de empanadas', 385.0, 43.5, 5.0, 21.2], ['Masa de pizza de molde', 246.0, 46.9, 6.6, 3.4], ['Ñoquis de papa', 246.0, 40.2, 6.3, 6.6], ['Ravioles de carne y jamón', 253.0, 44.4, 9.1, 4.4], ['Tallarines al huevo', 287.0, 56.8, 9.2, 2.6], ['Fideos de gluten', 363.0, 54.0, 33.0, 1.6], ['Fideos de harina integral', 359.0, 70.0, 15.4, 1.7], ['Fideos diet', 370.0, 54.0, 32.0, 1.0], ['Pan alemán', 263.0, 56.5, 8.9, 0.2], ['Pan Matzá', 390.0, 84.7, 10.0, 1.0], ['Pan francés', 269.0, 57.4, 9.3, 0.2], ['Pan Lacteado', 256.0, 52.4, 7.6, 1.7], ['Pan de centeno', 245.0, 50.5, 8.2, 1.1], ['Pan de salvado doble diet', 228.0, 36.8, 13.5, 3.0], ['Bombas', 373.0, 33.4, 14.0, 20.4], ['Cañón de dulce de leche', 397.0, 53.7, 6.7, 17.3], ['Churros', 348.0, 40.0, 4.6, 20.0], ['Doughnuts', 391.0, 51.4, 4.6, 18.6], ['Magdalena', 391.0, 48.4, 5.3, 18.4], ['Medialuna', 318.0, 55.0, 9.1, 6.9], ['Mil hojas', 630.0, 45.0, 8.6, 46.2], ['Palmeras', 475.0, 45.0, 5.2, 30.5], ['Panqueques', 235.0, 28.9, 9.4, 9.1], ['Scons', 398.0, 49.3, 10.8, 17.5], ['Bay0biscuit', 392.0, 83.3, 8.6, 2.7], ['Galleta marinera', 361.0, 75.9, 12.8, 0.7], ['Galletitas de agua', 415.0, 72.2, 8.6, 10.2], ['Galletitas con salvado', 438.0, 69.3, 13.8, 12.4], ['Galletitas con salvado diet', 310.0, 59.2, 13.0, 2.0], ['Galletitas dulces', 457.0, 73.4, 7.0, 15.1], ['Galletitas dulces rellenas', 496.0, 70.7, 3.5, 22.1], ['Grisines', 342.0, 72.6, 12.5, 0.2], ['Vainilla', 388.0, 81.6, 7.8, 3.4], ['Crema de leche', 422.0, 2.5, 1.7, 45.0], ['Manteca', 744.0, 0.0, 1.5, 82.0], ['Manteca diet', 381.0, 0.0, 6.5, 39.4], ['Manteca de cacao', 925.0, 0.0, 0.0, 94.5], ['Manteca de maní', 581.0, 17.2, 27.8, 49.4], ['Margarina', 730.0, 0.4, 0.6, 81.0], ['Margarina diet', 333.0, 1.8, 0.2, 36.1], ['Aceite de girasol', 860.0, 0.0, 0.0, 100.0], ['Aceite de oliva', 860.0, 0.0, 0.0, 100.0], ['Ketchup', 150.0, 3.5, 2.0, 0.0], ['Mayonesa', 800.0, 1.5, 1.0, 81.3], ['Mostaza', 75.0, 6.4, 4.7, 4.4], ['Salsa blanca', 163.0, 8.8, 3.9, 12.5], ['Salsa de soja', 61.0, 8.3, 8.8, 0.0], ['Salsa pomarola', 60.0, 3.2, 1.9, 4.4], ['Salsa golf', 640.0, 7.0, 1.6, 67.0], ['Mayonesa ligth', 374.0, 7.5, 0.5, 38.0], ['Azúcar blanca', 385.0, 99.5, 0.0, 0.0], ['Azúcar morena', 373.0, 96.4, 0.0, 0.0], ['Dulce de batata', 255.0, 62.4, 0.1, 0.55], ['Dulce de leche', 284.0, 52.0, 5.5, 6.0], ['Dulce de membrillo', 278.0, 86.8, 0.98, 0.44], ['Jaleas', 261.0, 65.0, 0.2, 0.0], ['Mermelada', 272.0, 70.0, 0.6, 0.1], ['Miel', 294.0, 79.5, 0.3, 0.0], ['Dulce de batata diet', 171.0, 42.0, 0.1, 0.16], ['Dulce de Leche diet', 210.0, 27.0, 6.0, 2.5], ['Jalea diet', 106.0, 26.1, 0.4, 0.07], ['Mermelada diet', 110.0, 26.8, 0.4, 0.007], ['Agua tónica', 34.0, 8.5, 0.0, 0.0], ['Alimento de soja líquido', 44.0, 10.1, 0.5, 0.2], ['Bebida gaseosa azucarada', 48.0, 12.0, 0.0, 0.0], ['Almendras tostadas', 627.0, 19.5, 18.6, 57.7], ['Chizitos', 520.0, 56.0, 12.0, 32.0], ['Maní salado', 600.0, 20.0, 32.0, 44.0], ['Palitos salados', 591.0, 53.9, 7.3, 38.5], ['Papas fritas', 540.0, 48.0, 8.0, 36.0], ['Pochoclo', 386.0, 76.4, 12.9, 5.0], ['Pochoclo acaramelado', 520.0, 64.0, 4.0, 28.0], ['Semillas de amapola', 533.0, 23.7, 18.0, 44.7], ['Semillas de girasol', 560.0, 19.9, 23.0, 47.3], ['Semillas de sésamo', 563.0, 21.6, 18.6, 49.1]]\n"
          ]
        }
      ]
    },
    {
      "cell_type": "code",
      "source": [
        "import random\n",
        "\n",
        "alimentos = random.sample(alimentos_f,15)\n",
        "print(alimentos[0])\n"
      ],
      "metadata": {
        "colab": {
          "base_uri": "https://localhost:8080/"
        },
        "id": "HslULTHvxZch",
        "outputId": "99d012ae-abd5-4d67-ca67-cb67288db4bd"
      },
      "execution_count": 141,
      "outputs": [
        {
          "output_type": "stream",
          "name": "stdout",
          "text": [
            "['Queso petit suisse', 165.0, 3.5, 7.5, 13.0]\n"
          ]
        }
      ]
    },
    {
      "cell_type": "code",
      "source": [
        "#Definimos los requisitos\n",
        "req = {\n",
        "    \"calorias\" : float(2000),\n",
        "    \"proteinas\" : float(70),\n",
        "    \"grasa\" : float(85),\n",
        "    \"carbohidratos\" : float(320),\n",
        "}\n",
        "\n",
        "#Parametros del AG\n",
        "pop = 300 #Población\n",
        "gens = 300 #Generaciones\n",
        "mut = 0.01 #Probabilidad de Mutación\n"
      ],
      "metadata": {
        "id": "80MibROxzA7x"
      },
      "execution_count": 150,
      "outputs": []
    },
    {
      "cell_type": "code",
      "source": [
        "print(req[\"calorias\"])"
      ],
      "metadata": {
        "colab": {
          "base_uri": "https://localhost:8080/"
        },
        "id": "k73Zv7iD-CGu",
        "outputId": "f2bb0dcf-0e2e-4683-d4cc-dab797cc0c76"
      },
      "execution_count": 97,
      "outputs": [
        {
          "output_type": "stream",
          "name": "stdout",
          "text": [
            "1800.0\n"
          ]
        }
      ]
    },
    {
      "cell_type": "code",
      "source": [
        "def f_apt(dieta):\n",
        "    calorias_dieta = sum(dieta[i] * alimentos[i][1] for i in range(len(dieta)))\n",
        "    proteinas_dieta = sum(dieta[i] * alimentos[i][2] for i in range(len(dieta)))\n",
        "    grasas_dieta = sum(dieta[i] * alimentos[i][3] for i in range(len(dieta)))\n",
        "    carbohidratos_dieta = sum(dieta[i] * alimentos[i][4] for i in range(len(dieta)))\n",
        "\n",
        "    # Calcular la puntuación de la dieta en función de la diferencia con los objetivos, normalizada para que los valores de una variable no opaquen los de otra\n",
        "    puntuacion = abs(req[\"calorias\"] - calorias_dieta)/req[\"calorias\"] + abs(req[\"proteinas\"] - proteinas_dieta)/req[\"proteinas\"] + abs(req[\"grasa\"] - grasas_dieta)/req[\"grasa\"] + abs(req[\"carbohidratos\"] - carbohidratos_dieta)/req[\"carbohidratos\"]\n",
        "\n",
        "    return puntuacion"
      ],
      "metadata": {
        "id": "1SH10ghU-7RL"
      },
      "execution_count": 114,
      "outputs": []
    },
    {
      "cell_type": "code",
      "source": [
        "#Creamos la función que toma combinaciones de los 15 alimentos seleccionados al azar\n",
        "def crear_dieta():\n",
        "    return [random.randint(0, 10) for _ in alimentos]"
      ],
      "metadata": {
        "id": "LP9I0LC33OOB"
      },
      "execution_count": 100,
      "outputs": []
    },
    {
      "cell_type": "code",
      "source": [
        "#Algoritmo genético\n",
        "def alg_gen(num_g,pop_s):\n",
        "  poblacion = [crear_dieta() for _ in range(pop_s)]\n",
        "\n",
        "  for gen in range(num_g):\n",
        "    poblacion = sorted(poblacion, key=f_apt) #Evaluar las dietas, poner las mejores al principio\n",
        "    poblacion = poblacion[:pop_s//2] #Conservar la mejor mitad\n",
        "\n",
        "    pob_n = [] #Generar la otra mitad mediante crucey mutación\n",
        "    for _ in range(pop_s):\n",
        "            padre = random.choice(poblacion)\n",
        "            madre = random.choice(poblacion)\n",
        "            punto_cruce = random.randint(1, len(alimentos) - 1)\n",
        "            hijo = padre[:punto_cruce] + madre[punto_cruce:]\n",
        "\n",
        "            # Aplicar mutación con una cierta probabilidad\n",
        "            if random.random() < mut:\n",
        "                indice_mutacion = random.randint(0, len(alimentos) - 1)\n",
        "                hijo[indice_mutacion] = random.randint(0, 5)\n",
        "\n",
        "            pob_n.append(hijo)\n",
        "    poblacion = pob_n\n",
        "  mejor_dieta = poblacion[0]\n",
        "  return mejor_dieta, f_apt(mejor_dieta)"
      ],
      "metadata": {
        "id": "a9JGIews4bsp"
      },
      "execution_count": 162,
      "outputs": []
    },
    {
      "cell_type": "code",
      "source": [
        "mejor_dieta, puntuacion_mejor_dieta = alg_gen(gens,pop)\n",
        "print(\"Mejor dieta encontrada:\")\n",
        "for i, cantidad in enumerate(mejor_dieta):\n",
        "    print(f\"{alimentos[i][0]}: {cantidad} unidades\")\n",
        "\n",
        "print(f\"Puntuación de la dieta: {puntuacion_mejor_dieta}\")"
      ],
      "metadata": {
        "colab": {
          "base_uri": "https://localhost:8080/"
        },
        "id": "FobpZyV77os2",
        "outputId": "2ea4973d-1250-4e54-8d2f-b93c87ec8037"
      },
      "execution_count": 165,
      "outputs": [
        {
          "output_type": "stream",
          "name": "stdout",
          "text": [
            "Mejor dieta encontrada:\n",
            "Queso petit suisse: 1 unidades\n",
            "Sardinas en aceite: 0 unidades\n",
            "Queso de máquina: 1 unidades\n",
            "Castaña de pará: 2 unidades\n",
            "Fideos diet: 0 unidades\n",
            "Mondongo de vaca: 1 unidades\n",
            "Cereza: 0 unidades\n",
            "Mostaza: 0 unidades\n",
            "Kani0Kama: 1 unidades\n",
            "Hongos: 5 unidades\n",
            "Cereal Mix: 0 unidades\n",
            "Azúcar blanca: 0 unidades\n",
            "Ravioles de carne y jamón: 0 unidades\n",
            "Hamburguesa diet.: 0 unidades\n",
            "Panqueques: 0 unidades\n",
            "Puntuación de la dieta: 0.5600446428571431\n"
          ]
        }
      ]
    }
  ]
}
