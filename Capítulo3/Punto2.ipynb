{
  "nbformat": 4,
  "nbformat_minor": 0,
  "metadata": {
    "colab": {
      "provenance": []
    },
    "kernelspec": {
      "name": "python3",
      "display_name": "Python 3"
    },
    "language_info": {
      "name": "python"
    }
  },
  "cells": [
    {
      "cell_type": "markdown",
      "source": [
        "#Suponga que tiene una lista de 15 alimentos con número de calorías, gramos de proteína, gramos de grasa y gramos de carbohidratos. Suponga que un individuo debe consumir determinada cantidad de calorías, proteínas, grasa y carbohidratos. Genere una dieta para ese individuo.\n",
        "\n",
        "Nos vamos a valer de la lista proporcionada del profesor, \"lista de alimentos.txt\", y de ella vamos a sacar 15 alimentos al azar para generar la dieta.\n",
        "\n",
        "Este programa implementa un Algoritmo Genético (AG) para generar una dieta óptima basada en una lista de alimentos con información nutricional. El objetivo es cumplir con ciertos requisitos específicos de calorías, proteínas, grasas y carbohidratos.\n"
      ],
      "metadata": {
        "id": "cr2psMT5t9Nk"
      }
    },
    {
      "cell_type": "markdown",
      "source": [
        "El programa comienza cargando una lista de alimentos desde un archivo externo llamado \"Lista de alimentos.txt\".\n",
        "\n",
        "Cada línea del archivo representa un alimento con su respectivo número de calorías, gramos de proteína, gramos de grasa y gramos de carbohidratos."
      ],
      "metadata": {
        "id": "eCnEhnAFisKG"
      }
    },
    {
      "cell_type": "code",
      "source": [
        "from google.colab import files\n",
        "uploaded = files.upload()"
      ],
      "metadata": {
        "colab": {
          "base_uri": "https://localhost:8080/",
          "height": 74
        },
        "id": "djxDJvaDuVIU",
        "outputId": "c1a89284-754c-4407-84ea-09ff2d386e1c"
      },
      "execution_count": 6,
      "outputs": [
        {
          "output_type": "display_data",
          "data": {
            "text/plain": [
              "<IPython.core.display.HTML object>"
            ],
            "text/html": [
              "\n",
              "     <input type=\"file\" id=\"files-8c2a780d-cc2c-49db-9405-fdc86beed6ff\" name=\"files[]\" multiple disabled\n",
              "        style=\"border:none\" />\n",
              "     <output id=\"result-8c2a780d-cc2c-49db-9405-fdc86beed6ff\">\n",
              "      Upload widget is only available when the cell has been executed in the\n",
              "      current browser session. Please rerun this cell to enable.\n",
              "      </output>\n",
              "      <script>// Copyright 2017 Google LLC\n",
              "//\n",
              "// Licensed under the Apache License, Version 2.0 (the \"License\");\n",
              "// you may not use this file except in compliance with the License.\n",
              "// You may obtain a copy of the License at\n",
              "//\n",
              "//      http://www.apache.org/licenses/LICENSE-2.0\n",
              "//\n",
              "// Unless required by applicable law or agreed to in writing, software\n",
              "// distributed under the License is distributed on an \"AS IS\" BASIS,\n",
              "// WITHOUT WARRANTIES OR CONDITIONS OF ANY KIND, either express or implied.\n",
              "// See the License for the specific language governing permissions and\n",
              "// limitations under the License.\n",
              "\n",
              "/**\n",
              " * @fileoverview Helpers for google.colab Python module.\n",
              " */\n",
              "(function(scope) {\n",
              "function span(text, styleAttributes = {}) {\n",
              "  const element = document.createElement('span');\n",
              "  element.textContent = text;\n",
              "  for (const key of Object.keys(styleAttributes)) {\n",
              "    element.style[key] = styleAttributes[key];\n",
              "  }\n",
              "  return element;\n",
              "}\n",
              "\n",
              "// Max number of bytes which will be uploaded at a time.\n",
              "const MAX_PAYLOAD_SIZE = 100 * 1024;\n",
              "\n",
              "function _uploadFiles(inputId, outputId) {\n",
              "  const steps = uploadFilesStep(inputId, outputId);\n",
              "  const outputElement = document.getElementById(outputId);\n",
              "  // Cache steps on the outputElement to make it available for the next call\n",
              "  // to uploadFilesContinue from Python.\n",
              "  outputElement.steps = steps;\n",
              "\n",
              "  return _uploadFilesContinue(outputId);\n",
              "}\n",
              "\n",
              "// This is roughly an async generator (not supported in the browser yet),\n",
              "// where there are multiple asynchronous steps and the Python side is going\n",
              "// to poll for completion of each step.\n",
              "// This uses a Promise to block the python side on completion of each step,\n",
              "// then passes the result of the previous step as the input to the next step.\n",
              "function _uploadFilesContinue(outputId) {\n",
              "  const outputElement = document.getElementById(outputId);\n",
              "  const steps = outputElement.steps;\n",
              "\n",
              "  const next = steps.next(outputElement.lastPromiseValue);\n",
              "  return Promise.resolve(next.value.promise).then((value) => {\n",
              "    // Cache the last promise value to make it available to the next\n",
              "    // step of the generator.\n",
              "    outputElement.lastPromiseValue = value;\n",
              "    return next.value.response;\n",
              "  });\n",
              "}\n",
              "\n",
              "/**\n",
              " * Generator function which is called between each async step of the upload\n",
              " * process.\n",
              " * @param {string} inputId Element ID of the input file picker element.\n",
              " * @param {string} outputId Element ID of the output display.\n",
              " * @return {!Iterable<!Object>} Iterable of next steps.\n",
              " */\n",
              "function* uploadFilesStep(inputId, outputId) {\n",
              "  const inputElement = document.getElementById(inputId);\n",
              "  inputElement.disabled = false;\n",
              "\n",
              "  const outputElement = document.getElementById(outputId);\n",
              "  outputElement.innerHTML = '';\n",
              "\n",
              "  const pickedPromise = new Promise((resolve) => {\n",
              "    inputElement.addEventListener('change', (e) => {\n",
              "      resolve(e.target.files);\n",
              "    });\n",
              "  });\n",
              "\n",
              "  const cancel = document.createElement('button');\n",
              "  inputElement.parentElement.appendChild(cancel);\n",
              "  cancel.textContent = 'Cancel upload';\n",
              "  const cancelPromise = new Promise((resolve) => {\n",
              "    cancel.onclick = () => {\n",
              "      resolve(null);\n",
              "    };\n",
              "  });\n",
              "\n",
              "  // Wait for the user to pick the files.\n",
              "  const files = yield {\n",
              "    promise: Promise.race([pickedPromise, cancelPromise]),\n",
              "    response: {\n",
              "      action: 'starting',\n",
              "    }\n",
              "  };\n",
              "\n",
              "  cancel.remove();\n",
              "\n",
              "  // Disable the input element since further picks are not allowed.\n",
              "  inputElement.disabled = true;\n",
              "\n",
              "  if (!files) {\n",
              "    return {\n",
              "      response: {\n",
              "        action: 'complete',\n",
              "      }\n",
              "    };\n",
              "  }\n",
              "\n",
              "  for (const file of files) {\n",
              "    const li = document.createElement('li');\n",
              "    li.append(span(file.name, {fontWeight: 'bold'}));\n",
              "    li.append(span(\n",
              "        `(${file.type || 'n/a'}) - ${file.size} bytes, ` +\n",
              "        `last modified: ${\n",
              "            file.lastModifiedDate ? file.lastModifiedDate.toLocaleDateString() :\n",
              "                                    'n/a'} - `));\n",
              "    const percent = span('0% done');\n",
              "    li.appendChild(percent);\n",
              "\n",
              "    outputElement.appendChild(li);\n",
              "\n",
              "    const fileDataPromise = new Promise((resolve) => {\n",
              "      const reader = new FileReader();\n",
              "      reader.onload = (e) => {\n",
              "        resolve(e.target.result);\n",
              "      };\n",
              "      reader.readAsArrayBuffer(file);\n",
              "    });\n",
              "    // Wait for the data to be ready.\n",
              "    let fileData = yield {\n",
              "      promise: fileDataPromise,\n",
              "      response: {\n",
              "        action: 'continue',\n",
              "      }\n",
              "    };\n",
              "\n",
              "    // Use a chunked sending to avoid message size limits. See b/62115660.\n",
              "    let position = 0;\n",
              "    do {\n",
              "      const length = Math.min(fileData.byteLength - position, MAX_PAYLOAD_SIZE);\n",
              "      const chunk = new Uint8Array(fileData, position, length);\n",
              "      position += length;\n",
              "\n",
              "      const base64 = btoa(String.fromCharCode.apply(null, chunk));\n",
              "      yield {\n",
              "        response: {\n",
              "          action: 'append',\n",
              "          file: file.name,\n",
              "          data: base64,\n",
              "        },\n",
              "      };\n",
              "\n",
              "      let percentDone = fileData.byteLength === 0 ?\n",
              "          100 :\n",
              "          Math.round((position / fileData.byteLength) * 100);\n",
              "      percent.textContent = `${percentDone}% done`;\n",
              "\n",
              "    } while (position < fileData.byteLength);\n",
              "  }\n",
              "\n",
              "  // All done.\n",
              "  yield {\n",
              "    response: {\n",
              "      action: 'complete',\n",
              "    }\n",
              "  };\n",
              "}\n",
              "\n",
              "scope.google = scope.google || {};\n",
              "scope.google.colab = scope.google.colab || {};\n",
              "scope.google.colab._files = {\n",
              "  _uploadFiles,\n",
              "  _uploadFilesContinue,\n",
              "};\n",
              "})(self);\n",
              "</script> "
            ]
          },
          "metadata": {}
        },
        {
          "output_type": "stream",
          "name": "stdout",
          "text": [
            "Saving Lista de alimentos.txt to Lista de alimentos (1).txt\n"
          ]
        }
      ]
    },
    {
      "cell_type": "code",
      "source": [
        "with open(\"Lista de alimentos.txt\", \"r\") as file:\n",
        "    lines = file.readlines()\n",
        "\n",
        "print(lines[1:3])"
      ],
      "metadata": {
        "colab": {
          "base_uri": "https://localhost:8080/"
        },
        "id": "nlckgZ1luujl",
        "outputId": "52a1ca74-9792-46c0-b3cf-ebd61a689dc4"
      },
      "execution_count": 7,
      "outputs": [
        {
          "output_type": "stream",
          "name": "stdout",
          "text": [
            "['Leche descremada  en polvo,36,5.1,3.5,0.1)\\n', 'Leche entera,57,4.5,3,3)\\n']\n"
          ]
        }
      ]
    },
    {
      "cell_type": "markdown",
      "source": [
        "Procesamiento de Datos:\n",
        "\n",
        "Se eliminan los paréntesis al final de cada línea y se dividen los valores utilizando comas.\n",
        "\n",
        "Se crean variables tipo float para los valores numéricos y se almacenan en una lista llamada alimentos_f."
      ],
      "metadata": {
        "id": "p8btcQTRi4g3"
      }
    },
    {
      "cell_type": "code",
      "source": [
        "alimentos_f = []\n",
        "for line in lines:\n",
        "  line = line.rstrip(\")\\n\") #Quitar el paréntesis al final\n",
        "  val = line.split(\",\") #dividir en comas\n",
        "  if(len(val) == 5): #Quitamos de la lista los alimentos que tengan errores de indexación y convertimos los valores numéricos en variables tipo float\n",
        "    val[1] = float(val[1])\n",
        "    val[2] = float(val[2])\n",
        "    val[3] = float(val[3])\n",
        "    val[4] = float(val[4])\n",
        "    alimentos_f.append(val)\n",
        "\n",
        "#print(alimentos_f)"
      ],
      "metadata": {
        "id": "hFQi97hRvOz4"
      },
      "execution_count": 8,
      "outputs": []
    },
    {
      "cell_type": "markdown",
      "source": [
        "Selección Aleatoria de Alimentos:\n",
        "\n",
        "    Se eligen aleatoriamente 15 alimentos de la lista procesada para formar la dieta inicial.\n"
      ],
      "metadata": {
        "id": "FxiHOnwRjAUz"
      }
    },
    {
      "cell_type": "code",
      "source": [
        "import random\n",
        "\n",
        "alimentos = random.sample(alimentos_f,15)\n",
        "print(alimentos[0])\n"
      ],
      "metadata": {
        "colab": {
          "base_uri": "https://localhost:8080/"
        },
        "id": "HslULTHvxZch",
        "outputId": "31f86f77-80bd-49e1-ced3-5a8219ad108e"
      },
      "execution_count": 9,
      "outputs": [
        {
          "output_type": "stream",
          "name": "stdout",
          "text": [
            "['Queso fontina', 369.0, 0.0, 27.0, 29.0]\n"
          ]
        }
      ]
    },
    {
      "cell_type": "markdown",
      "source": [
        "\n",
        "Definición de Requisitos Nutricionales:\n",
        "\n",
        "    Se definen los requisitos nutricionales del individuo en términos de calorías, proteínas, grasas y carbohidratos."
      ],
      "metadata": {
        "id": "YM0RAAWhjCzu"
      }
    },
    {
      "cell_type": "code",
      "source": [
        "#Definimos los requisitos\n",
        "req = {\n",
        "    \"calorias\" : float(3000),\n",
        "    \"proteinas\" : float(70),\n",
        "    \"grasa\" : float(85),\n",
        "    \"carbohidratos\" : float(320),\n",
        "}\n"
      ],
      "metadata": {
        "id": "80MibROxzA7x"
      },
      "execution_count": 10,
      "outputs": []
    },
    {
      "cell_type": "markdown",
      "source": [
        "Parámetros del Algoritmo Genético:\n",
        "\n",
        "    Tamaño de la población (pop): 300 individuos.\n",
        "    Número de generaciones (gens): 300 generaciones.\n",
        "    Probabilidad de mutación (mut): 1%."
      ],
      "metadata": {
        "id": "etKA1L8ajG_D"
      }
    },
    {
      "cell_type": "code",
      "source": [
        "\n",
        "#Parametros del AG\n",
        "pop = 300 #Población\n",
        "gens = 300 #Generaciones\n",
        "mut = 0.01 #Probabilidad de Mutación\n"
      ],
      "metadata": {
        "id": "i5rqsurcjKAD"
      },
      "execution_count": 11,
      "outputs": []
    },
    {
      "cell_type": "code",
      "source": [
        "print(req[\"calorias\"])"
      ],
      "metadata": {
        "colab": {
          "base_uri": "https://localhost:8080/"
        },
        "id": "k73Zv7iD-CGu",
        "outputId": "7e338514-736c-4b05-fd23-261186b7cd13"
      },
      "execution_count": 12,
      "outputs": [
        {
          "output_type": "stream",
          "name": "stdout",
          "text": [
            "3000.0\n"
          ]
        }
      ]
    },
    {
      "cell_type": "markdown",
      "source": [
        "Función Objetivo (f_apt):\n",
        "\n",
        "    Evalúa la aptitud de una dieta en función de su desviación con respecto a los requisitos nutricionales.\n",
        "    Utiliza la suma ponderada de las diferencias en calorías, proteínas, grasas y carbohidratos."
      ],
      "metadata": {
        "id": "ISBZQsFwjQFy"
      }
    },
    {
      "cell_type": "code",
      "source": [
        "def f_apt(dieta):\n",
        "    calorias_dieta = sum(dieta[i] * alimentos[i][1] for i in range(len(dieta)))\n",
        "    proteinas_dieta = sum(dieta[i] * alimentos[i][2] for i in range(len(dieta)))\n",
        "    grasas_dieta = sum(dieta[i] * alimentos[i][3] for i in range(len(dieta)))\n",
        "    carbohidratos_dieta = sum(dieta[i] * alimentos[i][4] for i in range(len(dieta)))\n",
        "\n",
        "    # Calcular la puntuación de la dieta en función de la diferencia con los objetivos, normalizada para que los valores de una variable no opaquen los de otra\n",
        "    puntuacion = abs(req[\"calorias\"] - calorias_dieta)/req[\"calorias\"] + abs(req[\"proteinas\"] - proteinas_dieta)/req[\"proteinas\"] + abs(req[\"grasa\"] - grasas_dieta)/req[\"grasa\"] + abs(req[\"carbohidratos\"] - carbohidratos_dieta)/req[\"carbohidratos\"]\n",
        "\n",
        "    return puntuacion"
      ],
      "metadata": {
        "id": "1SH10ghU-7RL"
      },
      "execution_count": 13,
      "outputs": []
    },
    {
      "cell_type": "markdown",
      "source": [
        "Función para Crear Dieta Inicial (crear_dieta):\n",
        "\n",
        "    Genera una dieta aleatoria inicialmente."
      ],
      "metadata": {
        "id": "XsWgrvwMjSgY"
      }
    },
    {
      "cell_type": "code",
      "source": [
        "#Creamos la función que toma combinaciones de los 15 alimentos seleccionados al azar\n",
        "def crear_dieta():\n",
        "    return [random.randint(0, 10) for _ in alimentos]"
      ],
      "metadata": {
        "id": "LP9I0LC33OOB"
      },
      "execution_count": 14,
      "outputs": []
    },
    {
      "cell_type": "markdown",
      "source": [
        "Algoritmo Genético (alg_gen):\n",
        "\n",
        "    Se crea una población inicial de dietas aleatorias.\n",
        "    Durante un número especificado de generaciones, se evalúan y seleccionan las mejores dietas.\n",
        "    Se generan nuevas dietas mediante cruces y mutaciones.\n",
        "    La mejor dieta encontrada se devuelve junto con su puntuación de aptitud."
      ],
      "metadata": {
        "id": "wyt3Bq-2jUhJ"
      }
    },
    {
      "cell_type": "code",
      "source": [
        "#Algoritmo genético\n",
        "def alg_gen(num_g,pop_s):\n",
        "  poblacion = [crear_dieta() for _ in range(pop_s)]\n",
        "\n",
        "  for gen in range(num_g):\n",
        "    poblacion = sorted(poblacion, key=f_apt) #Evaluar las dietas, poner las mejores al principio\n",
        "    poblacion = poblacion[:pop_s//2] #Conservar la mejor mitad\n",
        "\n",
        "    pob_n = [] #Generar la otra mitad mediante crucey mutación\n",
        "    for _ in range(pop_s):\n",
        "            padre = random.choice(poblacion)\n",
        "            madre = random.choice(poblacion)\n",
        "            punto_cruce = random.randint(1, len(alimentos) - 1)\n",
        "            hijo = padre[:punto_cruce] + madre[punto_cruce:]\n",
        "\n",
        "            # Aplicar mutación con una cierta probabilidad\n",
        "            if random.random() < mut:\n",
        "                indice_mutacion = random.randint(0, len(alimentos) - 1)\n",
        "                hijo[indice_mutacion] = random.randint(0, 5)\n",
        "\n",
        "            pob_n.append(hijo)\n",
        "    poblacion = pob_n\n",
        "  mejor_dieta = poblacion[0]\n",
        "  return mejor_dieta, f_apt(mejor_dieta)"
      ],
      "metadata": {
        "id": "a9JGIews4bsp"
      },
      "execution_count": 15,
      "outputs": []
    },
    {
      "cell_type": "markdown",
      "source": [
        "Ejecución y Resultados:\n",
        "\n",
        "    El AG se ejecuta con los parámetros definidos.\n",
        "    Se muestra la mejor dieta encontrada y su puntuación de aptitud."
      ],
      "metadata": {
        "id": "y8GiqidKjWvp"
      }
    },
    {
      "cell_type": "code",
      "source": [
        "mejor_dieta, puntuacion_mejor_dieta = alg_gen(gens,pop)\n",
        "print(\"Mejor dieta encontrada:\")\n",
        "for i, cantidad in enumerate(mejor_dieta):\n",
        "    print(f\"{alimentos[i][0]}: {cantidad} unidades\")\n",
        "\n",
        "print(f\"Puntuación de la dieta: {puntuacion_mejor_dieta}\")"
      ],
      "metadata": {
        "colab": {
          "base_uri": "https://localhost:8080/"
        },
        "id": "FobpZyV77os2",
        "outputId": "984305b5-9a1d-46c8-fa4c-dc0ff180e1ca"
      },
      "execution_count": 16,
      "outputs": [
        {
          "output_type": "stream",
          "name": "stdout",
          "text": [
            "Mejor dieta encontrada:\n",
            "Queso fontina: 0 unidades\n",
            "Hígado de vaca: 0 unidades\n",
            "Escarola: 1 unidades\n",
            "Choclo: 1 unidades\n",
            "Queso de cabra: 0 unidades\n",
            "Queso tofu: 1 unidades\n",
            "Maní: 0 unidades\n",
            "Manteca: 2 unidades\n",
            "Salchicha de viena: 4 unidades\n",
            "Mondongo de vaca: 0 unidades\n",
            "Yogur descr. saborizado: 4 unidades\n",
            "Jamón cocido: 0 unidades\n",
            "Ñoquis de papa: 0 unidades\n",
            "Zapallito: 2 unidades\n",
            "Cuadril magro: 0 unidades\n",
            "Puntuación de la dieta: 0.19558315826330558\n"
          ]
        }
      ]
    }
  ]
}
