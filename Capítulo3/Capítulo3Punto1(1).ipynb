{
  "nbformat": 4,
  "nbformat_minor": 0,
  "metadata": {
    "colab": {
      "provenance": []
    },
    "kernelspec": {
      "name": "python3",
      "display_name": "Python 3"
    },
    "language_info": {
      "name": "python"
    }
  },
  "cells": [
    {
      "cell_type": "markdown",
      "source": [
        "1 Encontrar, usando el método de AGs, la raíz real del polinomio P(x) = 5x5- 3x4-x3-5x2-x-3 en el\n",
        "intervalo [0.5 1], usando números reales, una población de 100 listas, un solo tipo de cruce y\n",
        "selección por clasificación. Dibuje un cuadro de aptitud contra generación."
      ],
      "metadata": {
        "id": "mVF5my8kT0t7"
      }
    },
    {
      "cell_type": "code",
      "source": [
        "import numpy as np\n",
        "import matplotlib.pyplot as plt\n",
        "\n",
        "# Definir la ecuación como función a operar\n",
        "def aptitud(x):\n",
        "    return 5 * x**5 - 3 * x**4 - x**3 - 5 * x**2 - x - 3\n",
        "\n"
      ],
      "metadata": {
        "id": "wFIAvnXjUhh_",
        "cellView": "code"
      },
      "execution_count": 10,
      "outputs": []
    },
    {
      "cell_type": "markdown",
      "source": [
        "La siguiente función calcula el valor absoluto de la ecuación 5x^5 - 3x^4 - x^3 - 5x^2 - x - 3.\n",
        "\n",
        "    Parámetros:\n",
        "    x (float): Valor para el cual se evalúa la ecuación.\n",
        "\n",
        "    Returns:\n",
        "    float: Valor absoluto de la ecuación evaluada en x."
      ],
      "metadata": {
        "id": "bxf4RiCEeLv_"
      }
    },
    {
      "cell_type": "code",
      "source": [
        "def eqc(x):\n",
        "    return abs(aptitud(x))\n",
        "# Parámetros del AG\n",
        "pop = 100  # Población\n",
        "gens = 500  # Generaciones\n",
        "mut = 0.01  # Probabilidad de Mutación\n",
        "cruce = 0.7  # Tasa de cruce\n",
        "\n",
        "#Generación de población\n",
        "\n",
        "poblacion = np.random.uniform(0.1,1,pop) #100 valores al azar entre 0.5 y 1\n",
        "#print(poblacion)"
      ],
      "metadata": {
        "id": "hkZbQEjoepGt"
      },
      "execution_count": null,
      "outputs": []
    },
    {
      "cell_type": "markdown",
      "source": [
        "Se utiliza una lista llamada mem para almacenar la mejor aptitud encontrada en cada generación. Esto será utilizado para trazar la evolución de la aptitud a lo largo del tiempo."
      ],
      "metadata": {
        "id": "DlSrco1oe21s"
      }
    },
    {
      "cell_type": "code",
      "source": [
        "\n",
        "#Memoria de calificación\n",
        "mem = []\n",
        "\n",
        "for gen in range(gens): #50 iteraciones, una por generación\n",
        "\n",
        "  #Guardar el mejor valor cada generación\n",
        "  m_calif = np.array([eqc(x) for x in poblacion])                                #Evaluar cada valor en la poblacion que obtuvimos y guardarlos en un arreglo\n",
        " # print(m_calif)\n",
        "  v_mejor = min(m_calif)                                                                 #Como buscamos la raíz, el valor más cercano a 0 será el mejor\n",
        "  mem.append(v_mejor)                                                                 #añadimos el mejor valor a la memoria\n",
        "  dec = 1e-10                                                                                 # se le sumará este valor a todos los números en caso de que alguno sea 0\n",
        "  prob_s = 1 / (m_calif + dec)                                                         #la probabilidad será el inverso de  los resultados en la matriz de calificación\n",
        "  prob_s = prob_s / sum(prob_s)                                                    #Normalizar los valores dividiendolos por la sumatoria\n",
        "  ind_r = np.random.choice(np.arange(pop), size=pop, p=prob_s) #selección aleatoria (clasificación)\n",
        "  pob_s = poblacion[ind_r]                                                                         #nueva población seleccionada, solo los valores que se encuentran en el índice de calificación\n",
        "\n",
        "  # Cruce en un punto\n",
        "  pts_cruce = np.random.randint(1, pop, size=pop)  * (np.random.random(size=pop) < cruce)                                           #Creación de los puntos de cruce, solo cruzamos el 70% de la población\n",
        "  pob_c = np.array([pob_s[i] if i < point else pob_s[i - 1] for i, point in enumerate(pts_cruce)])                                          #Población de cruce, basada en la población seleccionada\n",
        "\n",
        "  #Mutación\n",
        "  mask_m = np.random.random(size = 100) < mut                             #Máscara de mutación, con probabilidad de 1%\n",
        "  val_m = np.random.uniform(-0.01, 0.01, size=pop)                         #Valores de mutación, entre -0.01 y 0.01\n",
        "  pob_m = pob_c + val_m * mask_m                                                  #Población mutada, basada en la población de cruce\n",
        "\n",
        "  #Siguiente generación}\n",
        "  poblacion = pob_m                             #Reemplazar la población original por la nueva\n",
        "#print(mem)"
      ],
      "metadata": {
        "id": "WRqv2yG6YeWd"
      },
      "execution_count": 7,
      "outputs": []
    },
    {
      "cell_type": "code",
      "source": [
        "# Mostrar la solución hallada\n",
        "sol_m = poblacion[np.argmin(m_calif)]\n",
        "ajuste_m = min(m_calif)\n",
        "print(\"La raíz aproximada encontrada es:\", sol_m)\n",
        "print(\"Valor de P(x) en la raíz aproximada:\", eqc(sol_m))\n"
      ],
      "metadata": {
        "colab": {
          "base_uri": "https://localhost:8080/"
        },
        "id": "MpyKlTQJllHg",
        "outputId": "b1916dd1-76c3-4807-9289-51edad599539"
      },
      "execution_count": 8,
      "outputs": [
        {
          "output_type": "stream",
          "name": "stdout",
          "text": [
            "La raíz aproximada encontrada es: 0.11579565988351619\n",
            "Valor de P(x) en la raíz aproximada: 3.1848267749383536\n"
          ]
        }
      ]
    },
    {
      "cell_type": "code",
      "source": [
        "\n",
        "# Graficar aptitud contra generación\n",
        "plt.plot(range(gens), mem)\n",
        "plt.xlabel(\"Generación\")\n",
        "plt.ylabel(\"Aptitud\")\n",
        "plt.title(\"Aptitud contra Generación\")\n",
        "plt.show()"
      ],
      "metadata": {
        "colab": {
          "base_uri": "https://localhost:8080/",
          "height": 472
        },
        "id": "OMlgc5HLphDK",
        "outputId": "3b435fe8-5ab1-4de0-d16b-066856bc15d1"
      },
      "execution_count": 9,
      "outputs": [
        {
          "output_type": "display_data",
          "data": {
            "text/plain": [
              "<Figure size 640x480 with 1 Axes>"
            ],
            "image/png": "[encoded data removed]"
          },
          "metadata": {}
        }
      ]
    }
  ]
}