{
 "cells": [
  {
   "cell_type": "code",
   "execution_count": 1,
   "id": "4cc758ef-4161-4e0a-bbb6-3c4c034d7b49",
   "metadata": {},
   "outputs": [],
   "source": [
    "import cv2 as cv\n",
    "import numpy as np\n",
    "import matplotlib.pyplot as plt"
   ]
  },
  {
   "cell_type": "code",
   "execution_count": 2,
   "id": "f726c88c-c20e-484c-98e2-c908d141f5da",
   "metadata": {},
   "outputs": [],
   "source": [
    "im_og = cv.imread(\"imagencolor2.jpg\")\n",
    "im_rgb = cv.cvtColor(im_og, cv.COLOR_BGR2RGB) # OpenCV opera en BGR, toca pasarlo a RGB antes de operar\n",
    "im_gs = cv.cvtColor(im_rgb,cv.COLOR_RGB2GRAY) #Imagen en escala de grises\n"
   ]
  },
  {
   "cell_type": "code",
   "execution_count": 3,
   "id": "9dcb355a-8433-4946-b55d-a85b529e0392",
   "metadata": {},
   "outputs": [],
   "source": [
    "cv.imshow(\"foto\",im_gs)\n",
    "cv.waitKey(0)\n",
    "cv.destroyAllWindows()"
   ]
  },
  {
   "cell_type": "code",
   "execution_count": 4,
   "id": "c9516504-310f-45c9-925a-7fbabfc8407d",
   "metadata": {},
   "outputs": [
    {
     "name": "stdout",
     "output_type": "stream",
     "text": [
      "200 200\n"
     ]
    }
   ],
   "source": [
    "rows,columns = im_gs.shape\n",
    "print(rows,columns)"
   ]
  },
  {
   "cell_type": "code",
   "execution_count": 5,
   "id": "d1568e1e-80a3-41dd-91af-0e930f652677",
   "metadata": {},
   "outputs": [],
   "source": [
    "def moore(x,y,c_i,g_i):\n",
    "    mv = np.zeros(8)\n",
    "    moorev = [(-1,-1),(-1,0),(-1,1),(0,-1),(0,1),(1,-1),(1,0),(1,1)]\n",
    "    i = 0\n",
    "    for m_i,m_j in moorev:\n",
    "        mv[i] = g_i[x+m_i,y+m_j]\n",
    "        i = i+1\n",
    "    rule = mv\n",
    "    result = c_i[x,y]\n",
    "    return rule,result\n",
    "\n",
    "        "
   ]
  },
  {
   "cell_type": "code",
   "execution_count": 6,
   "id": "07398fe4-5608-46d9-82e7-876b893969d2",
   "metadata": {},
   "outputs": [],
   "source": [
    "rulebook = np.zeros((rows-1,columns-1,8),dtype=np.uint8)\n",
    "colorbook = np.zeros((rows-1,columns-1,3),dtype=np.uint8)"
   ]
  },
  {
   "cell_type": "code",
   "execution_count": 7,
   "id": "095dd3e0-e711-4770-8e9a-c3d62c9691b4",
   "metadata": {},
   "outputs": [
    {
     "name": "stdout",
     "output_type": "stream",
     "text": [
      "[77 77 80 83 83 81 79 81] [252   9   5] 0\n"
     ]
    }
   ],
   "source": [
    "i_im = 0\n",
    "for (x_t,y_t),valor in np.ndenumerate(im_gs[0:rows-1,0:columns-1]):\n",
    "    rulebook[x_t,y_t],colorbook[x_t,y_t] = moore(x_t,y_t,im_rgb,im_gs)\n",
    "    if(i_im<1):\n",
    "        print(rulebook[x_t,y_t],colorbook[x_t,y_t],i_im)\n",
    "    i_im = i_im+1\n",
    "     "
   ]
  },
  {
   "cell_type": "code",
   "execution_count": 8,
   "id": "becc5d88-a073-47c8-a956-7d34f368f984",
   "metadata": {},
   "outputs": [],
   "source": [
    "rb1 = rulebook\n",
    "cb1 = colorbook"
   ]
  },
  {
   "cell_type": "code",
   "execution_count": 9,
   "id": "ae545448-5d4d-4f44-8c3d-88a825e29053",
   "metadata": {},
   "outputs": [
    {
     "name": "stdout",
     "output_type": "stream",
     "text": [
      "[77 77 80 83 83 81 79 81]\n"
     ]
    }
   ],
   "source": [
    "print(rb1[0,0])"
   ]
  },
  {
   "cell_type": "code",
   "execution_count": null,
   "id": "c8764795-5f0d-47d4-8773-0a358c880d3a",
   "metadata": {},
   "outputs": [],
   "source": [
    "#i_dd = 0\n",
    "for x_n in range(rows-1):\n",
    "    for y_n in range(columns-1):\n",
    "        rule_found = False  # Bandera para indicar si se encontró una regla coincidente\n",
    "        \n",
    "        for x_m in range(rows-1):\n",
    "            for y_m in range(columns-1):\n",
    "                if np.all(rb1[x_n, y_n] == rulebook[x_m, y_m]):\n",
    "                    cb1[x_n, y_n] = colorbook[x_m, y_m]\n",
    "                   # if (i_dd % 10 ==0):\n",
    "                     #   print(i_dd)\n",
    "                   # i_dd = i_dd+1\n",
    "                    rule_found = True  # Establecer la bandera en Verdadero\n",
    "                    break\n",
    "            \n",
    "            if rule_found:\n",
    "                break  # Salir del bucle x_m e y_m si se encontró una regla\n",
    "            \n",
    "        if rule_found:\n",
    "            continue \n",
    "            "
   ]
  },
  {
   "cell_type": "code",
   "execution_count": null,
   "id": "8dd2d0b5-3650-4441-b364-6dcc8f494cb6",
   "metadata": {},
   "outputs": [],
   "source": [
    "image = cv.cvtColor(cb1, cv.COLOR_RGB2BGR)  # If you want RGB color order\n",
    "\n",
    "# Display the image\n",
    "cv.imshow('Image', image)\n",
    "cv.waitKey(0)\n",
    "cv.destroyAllWindows()"
   ]
  },
  {
   "cell_type": "code",
   "execution_count": null,
   "id": "8dce3e66-c520-4bd1-b4d0-e699a8631f51",
   "metadata": {},
   "outputs": [],
   "source": [
    "im_og_t = cv.imread(\"test.jpg\")\n",
    "im_rgb_t = cv.cvtColor(im_og_t, cv.COLOR_BGR2RGB) # OpenCV opera en BGR, toca pasarlo a RGB antes de operar\n",
    "im_gs_t = cv.cvtColor(im_rgb_t,cv.COLOR_RGB2GRAY) #Imagen en escala de grises\n",
    "rows_t,columns_t = im_gs_t.shape"
   ]
  },
  {
   "cell_type": "code",
   "execution_count": null,
   "id": "fa6be586-210d-4c8f-8789-ea7bbdf087cf",
   "metadata": {},
   "outputs": [],
   "source": [
    "i_im = 0\n",
    "rulebook_t = np.zeros((rows_t-1,columns_t-1,8),dtype=np.uint8)\n",
    "colorbook_t = np.zeros((rows_t-1,columns_t-1,3),dtype=np.uint8)\n",
    "for (x_t,y_t),valor in np.ndenumerate(im_gs[0:rows_t-1,0:columns_t-1]):\n",
    "    rulebook_t[x_t,y_t],colorbook_t[x_t,y_t] = moore(x_t,y_t,im_rgb_t,im_gs_t)\n",
    "    if(i_im<1):\n",
    "        print(rulebook_t[x_t,y_t],i_im)\n",
    "        print(rulebook[x_t,y_t],i_im)\n",
    "    i_im = i_im+1\n",
    "colorbook_t.fill(0)"
   ]
  },
  {
   "cell_type": "code",
   "execution_count": null,
   "id": "ac39b91d-03d0-4270-a66b-ba7067ce9d15",
   "metadata": {},
   "outputs": [],
   "source": [
    "#i_rec = 0\n",
    "colorbook_1 = np.zeros((rows_t-1,columns_t-1,3),dtype=np.uint8)\n",
    "#i_dd = 0\n",
    "for x_n in range(rows_t-1):\n",
    "    for y_n in range(columns_t-1):\n",
    "        rule_found = False  # Bandera para indicar si se encontró una regla coincidente\n",
    "        \n",
    "        for x_m in range(rows-1):\n",
    "            for y_m in range(columns-1):\n",
    "                if np.all(rulebook_t[x_n, y_n] == rulebook[x_m, y_m]):\n",
    "                    colorbook_1[x_n, y_n] = colorbook[x_m, y_m]\n",
    "                    #if (i_dd % 10 ==0):\n",
    "                     #   print(i_dd)\n",
    "                    #i_dd = i_dd+1\n",
    "                    rule_found = True  # Establecer la bandera en Verdadero\n",
    "                    break\n",
    "            \n",
    "            if rule_found:\n",
    "                break  # Salir del bucle x_m e y_m si se encontró una regla\n",
    "            \n",
    "        if rule_found:\n",
    "            continue \n",
    "            "
   ]
  },
  {
   "cell_type": "code",
   "execution_count": null,
   "id": "d4b1453e-0b51-4cac-adb7-f737d3c61317",
   "metadata": {},
   "outputs": [],
   "source": [
    "image = cv.cvtColor(colorbook_1, cv.COLOR_BGR2RGB)  # If you want RGB color order\n",
    "\n",
    "# Display the image\n",
    "cv.imshow('Image', image)\n",
    "cv.waitKey(0)\n",
    "cv.destroyAllWindows()"
   ]
  },
  {
   "cell_type": "code",
   "execution_count": null,
   "id": "fbedf2b4-bd89-49b3-bd0b-d7257c965abc",
   "metadata": {},
   "outputs": [],
   "source": [
    "print(\"a\")"
   ]
  },
  {
   "cell_type": "code",
   "execution_count": null,
   "id": "c366ec70-58db-4ca2-b531-f80acd88ee99",
   "metadata": {},
   "outputs": [],
   "source": []
  }
 ],
 "metadata": {
  "kernelspec": {
   "display_name": "Python 3 (ipykernel)",
   "language": "python",
   "name": "python3"
  },
  "language_info": {
   "codemirror_mode": {
    "name": "ipython",
    "version": 3
   },
   "file_extension": ".py",
   "mimetype": "text/x-python",
   "name": "python",
   "nbconvert_exporter": "python",
   "pygments_lexer": "ipython3",
   "version": "3.11.4"
  }
 },
 "nbformat": 4,
 "nbformat_minor": 5
}
